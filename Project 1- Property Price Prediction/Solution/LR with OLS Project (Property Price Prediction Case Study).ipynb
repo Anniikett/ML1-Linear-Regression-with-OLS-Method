{
 "cells": [
  {
   "cell_type": "markdown",
   "metadata": {},
   "source": [
    "<table align=\"center\" width=100%>\n",
    "    <tr>\n",
    "        <td width=\"15%\">\n",
    "            <img src=\"https://images.unsplash.com/photo-1572120360610-d971b9d7767c?ixid=MnwxMjA3fDB8MHxzZWFyY2h8MTJ8fGhvdXNlfGVufDB8fDB8fA%3D%3D&ixlib=rb-1.2.1&w=1000&q=80\">\n",
    "        </td>\n",
    "        <td>\n",
    "            <div align=\"center\">\n",
    "                <font color=\"#21618C\" size=24px>\n",
    "                    <b>Property Price Prediction\n",
    "                    </b>\n",
    "                </font>\n",
    "            </div>\n",
    "        </td>\n",
    "    </tr>\n",
    "</table>"
   ]
  },
  {
   "cell_type": "markdown",
   "metadata": {},
   "source": [
    "## Problem Statement\n",
    "\n",
    "A key challenge for property sellers is to determine the sale price of the property. The ability to predict the exact property value is beneficial for property investors as well as for buyers to plan their finances according to the price trend. The property prices depend on the number of features like the property area, basement square footage, year built, number of bedrooms, and so on. Regression analysis can be useful in predicting the price of the house."
   ]
  },
  {
   "cell_type": "markdown",
   "metadata": {},
   "source": [
    "## Data Definition\n",
    "\n",
    "**Dwell_Type:** Identifies the type of dwelling involved in the sale\n",
    "\n",
    "**Zone_Class:** Identifies the general zoning classification of the sale\n",
    "\t\n",
    "**LotFrontage:** Linear feet of street-connected to the property\n",
    "\n",
    "**LotArea:** Lot size is the lot or parcel side where it adjoins a street, boulevard or access way\n",
    "\n",
    "**Road_Type:** Type of road access to the property\n",
    "       \t\n",
    "**Alley:** Type of alley access to the property\n",
    "\t\t\n",
    "**Property_Shape:** General shape of the property\n",
    "\n",
    "**LandContour:** Flatness of the property\n",
    "\n",
    "**LotConfig:** Lot configuration\n",
    "\t\n",
    "**LandSlope:** Slope of property\n",
    "\n",
    "**Neighborhood:** Physical locations within Ames city limits\n",
    "\t\t\t\n",
    "**Condition1:** Proximity to various conditions\n",
    "\n",
    "**Condition2:** Proximity to various conditions (if more than one is present)\n",
    "\t\n",
    "**Dwelling_Type:** Type of dwelling\n",
    "\t\n",
    "**HouseStyle:** Style of dwelling\n",
    "\n",
    "**OverallQual:** Rates the overall material and finish of the house\n",
    "\t\n",
    "**OverallCond:** Rates the overall condition of the house\n",
    "\t\t\n",
    "**YearBuilt:** Original construction date\n",
    "\n",
    "**YearRemodAdd:** Remodel date (same as construction date if no remodeling or additions)\n",
    "\n",
    "**RoofStyle:** Type of roof\n",
    "\n",
    "**RoofMatl:** Roof material\n",
    "\t\t\n",
    "**Exterior1st:** Exterior covering on the house\n",
    "\t\n",
    "**Exterior2nd:** Exterior covering on the house (if more than one material)\n",
    "\n",
    "**MasVnrType:** Masonry veneer type\n",
    "\n",
    "**MasVnrArea:** Masonry veneer area in square feet\n",
    "\n",
    "**ExterQual:** Evaluates the quality of the material on the exterior\n",
    "\n",
    "**ExterCond:** Evaluates the present condition of the material on the exterior\n",
    "\t\t\n",
    "**Foundation:** Type of foundation\n",
    "\t\t\n",
    "**BsmtQual:** Evaluates the height of the basement\n",
    "\t\t\n",
    "**BsmtCond:** Evaluates the general condition of the basement\n",
    "\t\n",
    "**BsmtExposure:** Refers to walkout or garden level walls\n",
    "\n",
    "**BsmtFinType1:** Rating of basement finished area\n",
    "\t\t\n",
    "**BsmtFinSF1:** Type 1 finished square feet\n",
    "\n",
    "**BsmtFinType2:** Rating of basement finished area (if multiple types)\n",
    "\n",
    "**BsmtFinSF2:** Type 2 finished square feet\n",
    "\n",
    "**BsmtUnfSF:** Unfinished square feet of the basement area\n",
    "\n",
    "**TotalBsmtSF:** Total square feet of the basement area\n",
    "\n",
    "**Heating:** Type of heating\n",
    "\t\t\n",
    "**HeatingQC:** Heating quality and condition\n",
    "\t\t\n",
    "**CentralAir:** Central air conditioning\n",
    "\n",
    "**Electrical:** Electrical system\n",
    "\t\t\n",
    "**1stFlrSF:** First Floor square feet\n",
    " \n",
    "**2ndFlrSF:** Second floor square feet\n",
    "\n",
    "**LowQualFinSF:** Low quality finished square feet (all floors)\n",
    "\n",
    "**GrLivArea:** Above grade (ground) living area square feet\n",
    "\n",
    "**BsmtFullBath:** Basement full bathrooms\n",
    "\n",
    "**BsmtHalfBath:** Basement half bathrooms\n",
    "\n",
    "**FullBath:** Full bathrooms above grade\n",
    "\n",
    "**HalfBath:** Half baths above grade\n",
    "\n",
    "**Bedroom:** Bedrooms above grade (does NOT include basement bedrooms)\n",
    "\n",
    "**Kitchen:** Kitchens above grade\n",
    "\n",
    "**KitchenQual:** Kitchen quality\n",
    "\n",
    "**TotRmsAbvGrd:** Total rooms above grade (does not include bathrooms)\n",
    "\n",
    "**Functional:** Home functionality (Assume typical unless deductions are warranted)\n",
    "\n",
    "**Fireplaces:** Number of fireplaces\n",
    "\n",
    "**FireplaceQu:** Fireplace quality\n",
    "\n",
    "**GarageType:** Garage location\n",
    "\t\t\n",
    "**GarageYrBlt:** Year garage was built\n",
    "\t\t\n",
    "**GarageFinish:** Interior finish of the garage\n",
    "\n",
    "**GarageCars:** Size of garage in car capacity\n",
    "\n",
    "**GarageArea:** Size of garage in square feet\n",
    "\n",
    "**GarageQual:** Garage quality\n",
    "\t\t\n",
    "**GarageCond:** Garage condition\n",
    "\t\t\n",
    "**PavedDrive:** Paved driveway\n",
    "\t\t\n",
    "**WoodDeckSF:** Wood deck area in square feet\n",
    "\n",
    "**OpenPorchSF:** Open porch area in square feet\n",
    "\n",
    "**EnclosedPorch:** Enclosed porch area in square feet\n",
    "\n",
    "**3SsnPorch:** Three season porch area in square feet\n",
    "\n",
    "**ScreenPorch:** Screen porch area in square feet\n",
    "\n",
    "**PoolArea:** Pool area in square feet\n",
    "\n",
    "**PoolQC:** Pool quality\n",
    "\t\t\n",
    "**Fence:** Fence quality\n",
    "\t\t\n",
    "**MiscFeature:** Miscellaneous feature not covered in other categories\n",
    "\t\t\n",
    "**MiscVal:** Value of miscellaneous feature\n",
    "\n",
    "**MoSold:** Month Sold (MM)\n",
    "\n",
    "**YrSold:** Year Sold (YYYY)\n",
    "\n",
    "**SaleType:** Type of sale\n",
    "\n",
    "**SaleCondition:** Condition of sale\n",
    "       \n",
    "**Property_Sale_Price:** Price of the house"
   ]
  },
  {
   "cell_type": "markdown",
   "metadata": {
    "colab_type": "text",
    "id": "trkPCukEebnc"
   },
   "source": [
    "## Icon Legends\n",
    "<table>\n",
    "  <tr>\n",
    "    <th width=\"25%\"> <img src=\"infer.png\" style=\"width:25%;\"></th>\n",
    "    <th width=\"25%\"> <img src=\"alsoreadicon.png\" style=\"width:25%;\"></th>\n",
    "    <th width=\"25%\"> <img src=\"todo.png\" style=\"width:25%;\"></th>\n",
    "    <th width=\"25%\"> <img src=\"quicktip.png\" style=\"width:25%;\"></th>\n",
    "  </tr>\n",
    "  <tr>\n",
    "    <td><div align=\"center\" style=\"font-size:120%\">\n",
    "        <font color=\"#21618C\"><b>Inferences from outcome</b></font></div>\n",
    "    </td>\n",
    "    <td><div align=\"center\" style=\"font-size:120%\">\n",
    "        <font color=\"#21618C\"><b>Additional Reads</b></font></div>\n",
    "    </td>\n",
    "    <td><div align=\"center\" style=\"font-size:120%\">\n",
    "        <font color=\"#21618C\"><b>Lets do it</b></font></div>\n",
    "    </td>\n",
    "    <td><div align=\"center\" style=\"font-size:120%\">\n",
    "        <font color=\"#21618C\"><b>Quick Tips</b></font></div>\n",
    "    </td>\n",
    "\n",
    "</tr>\n",
    "\n",
    "</table>"
   ]
  },
  {
   "cell_type": "markdown",
   "metadata": {},
   "source": [
    "## Table of Contents\n",
    "\n",
    "1. **[Import Libraries](#import_lib)**\n",
    "2. **[Set Options](#set_options)**\n",
    "3. **[Read Data](#Read_Data)**\n",
    "4. **[Prepare and Analyze the Data](#data_preparation)**\n",
    "    - 4.1 - [Understand the Data](#Data_Understanding)\n",
    "        - 4.1.1 - [Data Type](#Data_Types)\n",
    "        - 4.1.2 - [Summary Statistics](#Summary_Statistics)\n",
    "        - 4.1.3 - [Distribution of Variables](#distribution_variables)\n",
    "        - 4.1.4 - [Discover Outliers](#outlier)\n",
    "        - 4.1.5 - [Missing Values](#Missing_Values)\n",
    "        - 4.1.6 - [Correlation](#correlation)\n",
    "        - 4.1.7 - [Analyze Relationships Between Target and Categorical Variables](#cat_num)\n",
    "    - 4.2 - [Data Preparation](#Data_Preparation)\n",
    "        - 4.2.1 - [Check for Normality](#Normality)\n",
    "        - 4.2.2 - [Dummy Encode the Categorical Variables](#dummy)\n",
    "5. **[Linear Regression (OLS)](#LinearRegression)**\n",
    "    - 5.1 - [Multiple Linear Regression Full Model with Log Transformed Dependent Variable (OLS)](#withLog)\n",
    "    - 5.2 - [Multiple Linear Regression Full Model without Log Transformed Dependent Variable (OLS)](#withoutLog)\n",
    "    - 5.3 - [Feature Engineering](#Feature_Engineering)\n",
    "      - 5.3.1 - [Multiple Linear Regression (Using New Feature) - 1](#feature1)\n",
    "      - 5.3.2 - [Multiple Linear Regression (Using New Feature) - 2](#feature2)\n",
    "6. **[Feature Selection](#feature_selection)**\n",
    "     - 6.1 - [Variance Inflation Factor](#vif)\n",
    "\n",
    "7. **[Conclusion and Interpretation](#conclusion)**"
   ]
  },
  {
   "cell_type": "markdown",
   "metadata": {
    "colab_type": "text",
    "id": "AyalDMN-ebnc"
   },
   "source": [
    "<a id='import_lib'></a>\n",
    "# 1. Import Libraries"
   ]
  },
  {
   "cell_type": "markdown",
   "metadata": {},
   "source": [
    "<table align=\"left\">\n",
    "    <tr>\n",
    "        <td width=\"8%\">\n",
    "            <img src=\"todo.png\">\n",
    "        </td>\n",
    "        <td>\n",
    "            <div align=\"left\", style=\"font-size:120%\">\n",
    "                <font color=\"#21618C\">\n",
    "                    <b>Import the required libraries and functions</b>\n",
    "                </font>\n",
    "            </div>\n",
    "        </td>\n",
    "    </tr>\n",
    "</table>"
   ]
  },
  {
   "cell_type": "code",
   "execution_count": 1,
   "metadata": {
    "ExecuteTime": {
     "end_time": "2021-10-25T12:20:58.747505Z",
     "start_time": "2021-10-25T12:20:57.286940Z"
    },
    "colab": {},
    "colab_type": "code",
    "id": "lBgh1J0Mebnd"
   },
   "outputs": [],
   "source": [
    "# We use 'Numpy'for mathematical operations on large, multi-dimensional arrays and matrices\n",
    "# 'Pandas' is used for data manipulation and analysis\n",
    "import numpy as np\n",
    "import pandas as pd \n",
    "\n",
    "# To check the data type we import 'is_string_dtype' and 'is_numeric_dtype'\n",
    "from pandas.api.types import is_string_dtype\n",
    "from pandas.api.types import is_numeric_dtype\n",
    "\n",
    "# 'Matplotlib' is a data visualization library for 2D and 3D plots\n",
    "import matplotlib.pyplot as plt\n",
    "%matplotlib inline\n",
    "\n",
    "# seaborn is used for plotting statistical graphics\n",
    "import seaborn as sns\n",
    "\n",
    "#  To build and analyze various statistical models we use 'Statsmodels'\n",
    "import statsmodels\n",
    "import statsmodels.api as sm\n",
    "from statsmodels.compat import lzip\n",
    "import statsmodels.stats.api as sms\n",
    "import statsmodels.formula.api as smf\n",
    "from statsmodels.formula.api import ols\n",
    "from statsmodels.tools.eval_measures import rmse\n",
    "from statsmodels.stats.outliers_influence import variance_inflation_factor\n",
    "\n",
    "# 'Scikit-learn' (sklearn) emphasizes various regression, classification and clustering algorithms\n",
    "from sklearn.model_selection import train_test_split\n",
    "from sklearn.metrics import mean_squared_error, mean_absolute_error, r2_score\n",
    "from sklearn.linear_model import LinearRegression\n",
    "from sklearn import metrics\n",
    "from sklearn import preprocessing\n",
    "\n",
    "# To perform scientific computations\n",
    "from scipy.stats import shapiro\n",
    "from scipy import stats"
   ]
  },
  {
   "cell_type": "code",
   "execution_count": 2,
   "metadata": {
    "ExecuteTime": {
     "end_time": "2021-10-25T12:20:58.750338Z",
     "start_time": "2021-10-25T12:20:58.748643Z"
    }
   },
   "outputs": [],
   "source": [
    "# suppress the warnings \n",
    "from warnings import filterwarnings\n",
    "filterwarnings('ignore')\n",
    "\n",
    "# set the plot size using 'rcParams'\n",
    "# once the plot size is set using 'rcParams', it sets the size of all the forthcoming plots in the file\n",
    "# 15 and 8 are width and height in inches respectively\n",
    "plt.rcParams['figure.figsize'] = [15,8]"
   ]
  },
  {
   "cell_type": "markdown",
   "metadata": {
    "colab_type": "text",
    "id": "Ll0ntaGOebng"
   },
   "source": [
    "<a id='set_options'></a>\n",
    "# 2. Set Options"
   ]
  },
  {
   "cell_type": "markdown",
   "metadata": {},
   "source": [
    "<table align=\"left\">\n",
    "    <tr>\n",
    "        <td width=\"8%\">\n",
    "            <img src=\"todo.png\">\n",
    "        </td>\n",
    "        <td>\n",
    "            <div align=\"left\", style=\"font-size:120%\">\n",
    "                <font color=\"#21618C\">\n",
    "                    <b>\n",
    "1. Display complete data frames<br>\n",
    "2. To avoid the exponential number<br>\n",
    "                    </b>\n",
    "                </font>\n",
    "            </div>\n",
    "        </td>\n",
    "    </tr>\n",
    "</table>"
   ]
  },
  {
   "cell_type": "code",
   "execution_count": null,
   "metadata": {
    "ExecuteTime": {
     "end_time": "2021-10-25T11:37:05.467058Z",
     "start_time": "2021-10-25T11:37:05.462163Z"
    },
    "colab": {},
    "colab_type": "code",
    "id": "qJcw0J2Cebnh"
   },
   "outputs": [],
   "source": [
    "# display all columns of the dataframe\n",
    "pd.options.display.max_columns = None\n",
    "\n",
    "# display all rows of the dataframe\n",
    "pd.options.display.max_rows = None\n",
    "\n",
    "# use below code to convert the 'exponential' values to float\n",
    "np.set_printoptions(suppress=True)"
   ]
  },
  {
   "cell_type": "markdown",
   "metadata": {
    "colab_type": "text",
    "id": "yPb9_if1ebnl"
   },
   "source": [
    "<a id='Read_Data'></a>\n",
    "# 3. Read Data"
   ]
  },
  {
   "cell_type": "code",
   "execution_count": 3,
   "metadata": {
    "ExecuteTime": {
     "end_time": "2021-10-25T12:21:02.410357Z",
     "start_time": "2021-10-25T12:21:02.351292Z"
    },
    "scrolled": true
   },
   "outputs": [
    {
     "data": {
      "text/html": [
       "<div>\n",
       "<style scoped>\n",
       "    .dataframe tbody tr th:only-of-type {\n",
       "        vertical-align: middle;\n",
       "    }\n",
       "\n",
       "    .dataframe tbody tr th {\n",
       "        vertical-align: top;\n",
       "    }\n",
       "\n",
       "    .dataframe thead th {\n",
       "        text-align: right;\n",
       "    }\n",
       "</style>\n",
       "<table border=\"1\" class=\"dataframe\">\n",
       "  <thead>\n",
       "    <tr style=\"text-align: right;\">\n",
       "      <th></th>\n",
       "      <th>Id</th>\n",
       "      <th>Dwell_Type</th>\n",
       "      <th>Zone_Class</th>\n",
       "      <th>LotFrontage</th>\n",
       "      <th>LotArea</th>\n",
       "      <th>Road_Type</th>\n",
       "      <th>Alley</th>\n",
       "      <th>Property_Shape</th>\n",
       "      <th>LandContour</th>\n",
       "      <th>Utilities</th>\n",
       "      <th>...</th>\n",
       "      <th>PoolArea</th>\n",
       "      <th>PoolQC</th>\n",
       "      <th>Fence</th>\n",
       "      <th>MiscFeature</th>\n",
       "      <th>MiscVal</th>\n",
       "      <th>MoSold</th>\n",
       "      <th>YrSold</th>\n",
       "      <th>SaleType</th>\n",
       "      <th>SaleCondition</th>\n",
       "      <th>Property_Sale_Price</th>\n",
       "    </tr>\n",
       "  </thead>\n",
       "  <tbody>\n",
       "    <tr>\n",
       "      <th>0</th>\n",
       "      <td>1</td>\n",
       "      <td>60</td>\n",
       "      <td>RL</td>\n",
       "      <td>65.0</td>\n",
       "      <td>8450</td>\n",
       "      <td>Pave</td>\n",
       "      <td>NaN</td>\n",
       "      <td>Reg</td>\n",
       "      <td>Lvl</td>\n",
       "      <td>AllPub</td>\n",
       "      <td>...</td>\n",
       "      <td>0</td>\n",
       "      <td>NaN</td>\n",
       "      <td>NaN</td>\n",
       "      <td>NaN</td>\n",
       "      <td>0</td>\n",
       "      <td>2</td>\n",
       "      <td>2008</td>\n",
       "      <td>WD</td>\n",
       "      <td>Normal</td>\n",
       "      <td>208500</td>\n",
       "    </tr>\n",
       "    <tr>\n",
       "      <th>1</th>\n",
       "      <td>2</td>\n",
       "      <td>20</td>\n",
       "      <td>RL</td>\n",
       "      <td>80.0</td>\n",
       "      <td>9600</td>\n",
       "      <td>Pave</td>\n",
       "      <td>NaN</td>\n",
       "      <td>Reg</td>\n",
       "      <td>Lvl</td>\n",
       "      <td>AllPub</td>\n",
       "      <td>...</td>\n",
       "      <td>0</td>\n",
       "      <td>NaN</td>\n",
       "      <td>NaN</td>\n",
       "      <td>NaN</td>\n",
       "      <td>0</td>\n",
       "      <td>5</td>\n",
       "      <td>2007</td>\n",
       "      <td>WD</td>\n",
       "      <td>Normal</td>\n",
       "      <td>181500</td>\n",
       "    </tr>\n",
       "    <tr>\n",
       "      <th>2</th>\n",
       "      <td>3</td>\n",
       "      <td>60</td>\n",
       "      <td>RL</td>\n",
       "      <td>68.0</td>\n",
       "      <td>11250</td>\n",
       "      <td>Pave</td>\n",
       "      <td>NaN</td>\n",
       "      <td>IR1</td>\n",
       "      <td>Lvl</td>\n",
       "      <td>AllPub</td>\n",
       "      <td>...</td>\n",
       "      <td>0</td>\n",
       "      <td>NaN</td>\n",
       "      <td>NaN</td>\n",
       "      <td>NaN</td>\n",
       "      <td>0</td>\n",
       "      <td>9</td>\n",
       "      <td>2008</td>\n",
       "      <td>WD</td>\n",
       "      <td>Normal</td>\n",
       "      <td>223500</td>\n",
       "    </tr>\n",
       "    <tr>\n",
       "      <th>3</th>\n",
       "      <td>4</td>\n",
       "      <td>70</td>\n",
       "      <td>RL</td>\n",
       "      <td>60.0</td>\n",
       "      <td>9550</td>\n",
       "      <td>Pave</td>\n",
       "      <td>NaN</td>\n",
       "      <td>IR1</td>\n",
       "      <td>Lvl</td>\n",
       "      <td>AllPub</td>\n",
       "      <td>...</td>\n",
       "      <td>0</td>\n",
       "      <td>NaN</td>\n",
       "      <td>NaN</td>\n",
       "      <td>NaN</td>\n",
       "      <td>0</td>\n",
       "      <td>2</td>\n",
       "      <td>2006</td>\n",
       "      <td>WD</td>\n",
       "      <td>Abnorml</td>\n",
       "      <td>140000</td>\n",
       "    </tr>\n",
       "    <tr>\n",
       "      <th>4</th>\n",
       "      <td>5</td>\n",
       "      <td>60</td>\n",
       "      <td>RL</td>\n",
       "      <td>84.0</td>\n",
       "      <td>14260</td>\n",
       "      <td>Pave</td>\n",
       "      <td>NaN</td>\n",
       "      <td>IR1</td>\n",
       "      <td>Lvl</td>\n",
       "      <td>AllPub</td>\n",
       "      <td>...</td>\n",
       "      <td>0</td>\n",
       "      <td>NaN</td>\n",
       "      <td>NaN</td>\n",
       "      <td>NaN</td>\n",
       "      <td>0</td>\n",
       "      <td>12</td>\n",
       "      <td>2008</td>\n",
       "      <td>WD</td>\n",
       "      <td>Normal</td>\n",
       "      <td>250000</td>\n",
       "    </tr>\n",
       "  </tbody>\n",
       "</table>\n",
       "<p>5 rows × 81 columns</p>\n",
       "</div>"
      ],
      "text/plain": [
       "   Id  Dwell_Type Zone_Class  LotFrontage  LotArea Road_Type Alley  \\\n",
       "0   1          60         RL         65.0     8450      Pave   NaN   \n",
       "1   2          20         RL         80.0     9600      Pave   NaN   \n",
       "2   3          60         RL         68.0    11250      Pave   NaN   \n",
       "3   4          70         RL         60.0     9550      Pave   NaN   \n",
       "4   5          60         RL         84.0    14260      Pave   NaN   \n",
       "\n",
       "  Property_Shape LandContour Utilities  ... PoolArea PoolQC Fence MiscFeature  \\\n",
       "0            Reg         Lvl    AllPub  ...        0    NaN   NaN         NaN   \n",
       "1            Reg         Lvl    AllPub  ...        0    NaN   NaN         NaN   \n",
       "2            IR1         Lvl    AllPub  ...        0    NaN   NaN         NaN   \n",
       "3            IR1         Lvl    AllPub  ...        0    NaN   NaN         NaN   \n",
       "4            IR1         Lvl    AllPub  ...        0    NaN   NaN         NaN   \n",
       "\n",
       "  MiscVal MoSold YrSold  SaleType  SaleCondition  Property_Sale_Price  \n",
       "0       0      2   2008        WD         Normal               208500  \n",
       "1       0      5   2007        WD         Normal               181500  \n",
       "2       0      9   2008        WD         Normal               223500  \n",
       "3       0      2   2006        WD        Abnorml               140000  \n",
       "4       0     12   2008        WD         Normal               250000  \n",
       "\n",
       "[5 rows x 81 columns]"
      ]
     },
     "execution_count": 3,
     "metadata": {},
     "output_type": "execute_result"
    }
   ],
   "source": [
    "# read csv file using pandas\n",
    "df_property = pd.read_csv(r'../Dataset/HousePrices.csv')\n",
    "\n",
    "# display the top 5 rows of the dataframe\n",
    "df_property.head()"
   ]
  },
  {
   "cell_type": "markdown",
   "metadata": {},
   "source": [
    "#### Lets take a glance at our dataframe and see how it looks"
   ]
  },
  {
   "cell_type": "markdown",
   "metadata": {},
   "source": [
    "#### Dimensions of the data"
   ]
  },
  {
   "cell_type": "code",
   "execution_count": 4,
   "metadata": {
    "ExecuteTime": {
     "end_time": "2021-10-25T12:21:04.984392Z",
     "start_time": "2021-10-25T12:21:04.979851Z"
    }
   },
   "outputs": [
    {
     "data": {
      "text/plain": [
       "(1460, 81)"
      ]
     },
     "execution_count": 4,
     "metadata": {},
     "output_type": "execute_result"
    }
   ],
   "source": [
    "# 'shape' function returns a tuple that gives the total number of rows and columns in the data\n",
    "df_property.shape"
   ]
  },
  {
   "cell_type": "markdown",
   "metadata": {
    "colab_type": "text",
    "id": "SSHIYKY2ebns"
   },
   "source": [
    "<a id='data_preparation'></a>\n",
    "# 4. Data Analysis and Preparation"
   ]
  },
  {
   "cell_type": "markdown",
   "metadata": {
    "colab_type": "text",
    "id": "l48tGdoxebnt"
   },
   "source": [
    "<table align=\"left\">\n",
    "    <tr>\n",
    "        <td width=\"8%\">\n",
    "            <img src=\"todo.png\">\n",
    "        </td>\n",
    "        <td>\n",
    "            <div align=\"left\", style=\"font-size:120%\">\n",
    "                <font color=\"#21618C\">\n",
    "                    <b>Data preparation is the process of cleaning and transforming raw data before building predictive models. <br><br>\n",
    "                        Here, we analyze and perform the following tasks:<br>\n",
    "                        1. Check data types. Ensure your data types are correct.<br>\n",
    "                        2. We need to change the data types as per requirement If they are not as per business definition <br>\n",
    "                        3. Go through the summary statistics<br>\n",
    "                        4. Distribution of variables<br>\n",
    "                        5. Study the correlation<br>\n",
    "                        6. Detect outliers from the data<br>\n",
    "                        7. Look for the missing values<br><br>\n",
    "                    </b>\n",
    "                </font>\n",
    "            </div>\n",
    "        </td>\n",
    "    </tr>\n",
    "</table>"
   ]
  },
  {
   "cell_type": "markdown",
   "metadata": {
    "colab_type": "text",
    "id": "Y-baDwGWebnu"
   },
   "source": [
    "<a id='Data_Understanding'></a>\n",
    "## 4.1 Understand the Dataset"
   ]
  },
  {
   "cell_type": "markdown",
   "metadata": {
    "colab_type": "text",
    "id": "O71NsesEebn3"
   },
   "source": [
    "<a id='Data_Types'></a>\n",
    "### 4.1.1 Data Type\n",
    "The data types in pandas dataframes are the object, float, int64, bool, and datetime64. We should know the data type of each column."
   ]
  },
  {
   "cell_type": "markdown",
   "metadata": {},
   "source": [
    "<table align=\"left\">\n",
    "    <tr>\n",
    "        <td width=\"8%\">\n",
    "            <img src=\"todo.png\">\n",
    "        </td>\n",
    "        <td>\n",
    "            <div align=\"left\", style=\"font-size:120%\">\n",
    "                <font color=\"#21618C\">\n",
    "                    <b>In our dataset, we have a blend of numerical and categorical variables. The numeric variables should have data type 'int'/'float' while categorical variables should have data type 'object'.</b>\n",
    "                </font>\n",
    "            </div>\n",
    "        </td>\n",
    "    </tr>\n",
    "</table>"
   ]
  },
  {
   "cell_type": "markdown",
   "metadata": {},
   "source": [
    "**1. Check for the data type**"
   ]
  },
  {
   "cell_type": "code",
   "execution_count": 5,
   "metadata": {
    "ExecuteTime": {
     "end_time": "2021-10-25T12:21:08.635508Z",
     "start_time": "2021-10-25T12:21:08.624880Z"
    },
    "colab": {
     "base_uri": "https://localhost:8080/",
     "height": 442
    },
    "colab_type": "code",
    "id": "TnYrzq7Yebn4",
    "outputId": "4bb73ba1-917e-4175-f29d-72a57c788b84",
    "scrolled": false
   },
   "outputs": [
    {
     "data": {
      "text/plain": [
       "Id                       int64\n",
       "Dwell_Type               int64\n",
       "Zone_Class              object\n",
       "LotFrontage            float64\n",
       "LotArea                  int64\n",
       "                        ...   \n",
       "MoSold                   int64\n",
       "YrSold                   int64\n",
       "SaleType                object\n",
       "SaleCondition           object\n",
       "Property_Sale_Price      int64\n",
       "Length: 81, dtype: object"
      ]
     },
     "execution_count": 5,
     "metadata": {},
     "output_type": "execute_result"
    }
   ],
   "source": [
    "# 'dtypes' provides the data type for each column\n",
    "df_property.dtypes"
   ]
  },
  {
   "cell_type": "markdown",
   "metadata": {
    "colab_type": "text",
    "id": "uvOvxensebn6"
   },
   "source": [
    "<table align=\"left\">\n",
    "    <tr>\n",
    "        <td width=\"8%\">\n",
    "            <img src=\"infer.png\">\n",
    "        </td>\n",
    "        <td>\n",
    "            <div align=\"left\", style=\"font-size:120%\">\n",
    "                <font color=\"#21618C\">\n",
    "                    <b>From the above output, we can see that 'Dwell_Type', 'OverallQual' and 'OverallCond' have data type as 'int64'.<br>\n",
    "\n",
    "But as per the data definition, 'Dwell_Type ', 'OverallQual' and 'OverallCond' are categorical variables, so we need to convert these variables data type to 'object'.</br></b>\n",
    "                </font>\n",
    "            </div>\n",
    "        </td>\n",
    "    </tr>\n",
    "</table>\n"
   ]
  },
  {
   "cell_type": "markdown",
   "metadata": {},
   "source": [
    "#### Let us convert  'Dwell_Type ', 'OverallQual' and 'OverallCond'  to categorical data type"
   ]
  },
  {
   "cell_type": "code",
   "execution_count": 6,
   "metadata": {
    "ExecuteTime": {
     "end_time": "2021-10-25T12:21:10.557303Z",
     "start_time": "2021-10-25T12:21:10.546549Z"
    }
   },
   "outputs": [],
   "source": [
    "df_property['Dwell_Type'] = df_property['Dwell_Type'].astype('O')\n",
    "df_property['OverallQual'] = df_property['OverallQual'].astype('O')\n",
    "df_property['OverallCond'] = df_property['OverallCond'].astype('O')"
   ]
  },
  {
   "cell_type": "code",
   "execution_count": 7,
   "metadata": {
    "ExecuteTime": {
     "end_time": "2021-10-25T12:21:14.410990Z",
     "start_time": "2021-10-25T12:21:14.395604Z"
    }
   },
   "outputs": [
    {
     "data": {
      "text/plain": [
       "Dwell_Type     object\n",
       "OverallQual    object\n",
       "OverallCond    object\n",
       "dtype: object"
      ]
     },
     "execution_count": 7,
     "metadata": {},
     "output_type": "execute_result"
    }
   ],
   "source": [
    "# 'dtypes' provides the data type for each column\n",
    "df_property[['Dwell_Type', 'OverallQual', 'OverallCond']].dtypes"
   ]
  },
  {
   "cell_type": "markdown",
   "metadata": {},
   "source": [
    "#### Let us now remove the Id column as this will not be necessary for our analysis"
   ]
  },
  {
   "cell_type": "code",
   "execution_count": null,
   "metadata": {
    "ExecuteTime": {
     "end_time": "2021-10-25T12:06:02.584199Z",
     "start_time": "2021-10-25T12:06:02.570689Z"
    }
   },
   "outputs": [],
   "source": [
    "df_property.drop(['Id'], axis=1, inplace=True)"
   ]
  },
  {
   "cell_type": "code",
   "execution_count": null,
   "metadata": {
    "ExecuteTime": {
     "end_time": "2021-10-25T12:18:41.953036Z",
     "start_time": "2021-10-25T12:18:41.943787Z"
    }
   },
   "outputs": [],
   "source": [
    "df_property.columns"
   ]
  },
  {
   "cell_type": "markdown",
   "metadata": {},
   "source": [
    "<a id='Summary_Statistics'></a>\n",
    "### 4.1.2 Summary Statistics\n",
    "\n",
    "Here we take a look at the summary of each attribute. This includes the count, mean, the minimum and maximum values as well as some percentiles for numeric variables and count, unique, top, frequency for categorical variables."
   ]
  },
  {
   "cell_type": "markdown",
   "metadata": {},
   "source": [
    "<table align=\"left\">\n",
    "    <tr>\n",
    "        <td width=\"8%\">\n",
    "            <img src=\"todo.png\">\n",
    "        </td>\n",
    "        <td>\n",
    "            <div align=\"left\", style=\"font-size:120%\">\n",
    "                <font color=\"#21618C\">\n",
    "                    <b> In our dataset we have numerical as well as categorical variables. Now we check for summary statistics of all the variables.\n",
    "                    </b>\n",
    "                </font>\n",
    "            </div>\n",
    "        </td>\n",
    "    </tr>\n",
    "</table>"
   ]
  },
  {
   "cell_type": "markdown",
   "metadata": {},
   "source": [
    "**1. For getting the statistical summary of numerical variables we use the describe()**"
   ]
  },
  {
   "cell_type": "code",
   "execution_count": 8,
   "metadata": {
    "ExecuteTime": {
     "end_time": "2021-10-25T12:21:18.376323Z",
     "start_time": "2021-10-25T12:21:18.299351Z"
    }
   },
   "outputs": [
    {
     "data": {
      "text/html": [
       "<div>\n",
       "<style scoped>\n",
       "    .dataframe tbody tr th:only-of-type {\n",
       "        vertical-align: middle;\n",
       "    }\n",
       "\n",
       "    .dataframe tbody tr th {\n",
       "        vertical-align: top;\n",
       "    }\n",
       "\n",
       "    .dataframe thead th {\n",
       "        text-align: right;\n",
       "    }\n",
       "</style>\n",
       "<table border=\"1\" class=\"dataframe\">\n",
       "  <thead>\n",
       "    <tr style=\"text-align: right;\">\n",
       "      <th></th>\n",
       "      <th>Id</th>\n",
       "      <th>LotFrontage</th>\n",
       "      <th>LotArea</th>\n",
       "      <th>YearBuilt</th>\n",
       "      <th>YearRemodAdd</th>\n",
       "      <th>MasVnrArea</th>\n",
       "      <th>BsmtFinSF1</th>\n",
       "      <th>BsmtFinSF2</th>\n",
       "      <th>BsmtUnfSF</th>\n",
       "      <th>TotalBsmtSF</th>\n",
       "      <th>...</th>\n",
       "      <th>WoodDeckSF</th>\n",
       "      <th>OpenPorchSF</th>\n",
       "      <th>EnclosedPorch</th>\n",
       "      <th>3SsnPorch</th>\n",
       "      <th>ScreenPorch</th>\n",
       "      <th>PoolArea</th>\n",
       "      <th>MiscVal</th>\n",
       "      <th>MoSold</th>\n",
       "      <th>YrSold</th>\n",
       "      <th>Property_Sale_Price</th>\n",
       "    </tr>\n",
       "  </thead>\n",
       "  <tbody>\n",
       "    <tr>\n",
       "      <th>count</th>\n",
       "      <td>1460.000000</td>\n",
       "      <td>1201.000000</td>\n",
       "      <td>1460.000000</td>\n",
       "      <td>1460.000000</td>\n",
       "      <td>1460.000000</td>\n",
       "      <td>1452.000000</td>\n",
       "      <td>1460.000000</td>\n",
       "      <td>1460.000000</td>\n",
       "      <td>1460.000000</td>\n",
       "      <td>1460.000000</td>\n",
       "      <td>...</td>\n",
       "      <td>1460.000000</td>\n",
       "      <td>1460.000000</td>\n",
       "      <td>1460.000000</td>\n",
       "      <td>1460.000000</td>\n",
       "      <td>1460.000000</td>\n",
       "      <td>1460.000000</td>\n",
       "      <td>1460.000000</td>\n",
       "      <td>1460.000000</td>\n",
       "      <td>1460.000000</td>\n",
       "      <td>1460.000000</td>\n",
       "    </tr>\n",
       "    <tr>\n",
       "      <th>mean</th>\n",
       "      <td>730.500000</td>\n",
       "      <td>70.049958</td>\n",
       "      <td>10516.828082</td>\n",
       "      <td>1971.267808</td>\n",
       "      <td>1984.865753</td>\n",
       "      <td>103.685262</td>\n",
       "      <td>443.639726</td>\n",
       "      <td>46.549315</td>\n",
       "      <td>567.240411</td>\n",
       "      <td>1057.429452</td>\n",
       "      <td>...</td>\n",
       "      <td>94.244521</td>\n",
       "      <td>46.660274</td>\n",
       "      <td>21.954110</td>\n",
       "      <td>3.409589</td>\n",
       "      <td>15.060959</td>\n",
       "      <td>2.758904</td>\n",
       "      <td>43.489041</td>\n",
       "      <td>6.321918</td>\n",
       "      <td>2007.815753</td>\n",
       "      <td>180921.195890</td>\n",
       "    </tr>\n",
       "    <tr>\n",
       "      <th>std</th>\n",
       "      <td>421.610009</td>\n",
       "      <td>24.284752</td>\n",
       "      <td>9981.264932</td>\n",
       "      <td>30.202904</td>\n",
       "      <td>20.645407</td>\n",
       "      <td>181.066207</td>\n",
       "      <td>456.098091</td>\n",
       "      <td>161.319273</td>\n",
       "      <td>441.866955</td>\n",
       "      <td>438.705324</td>\n",
       "      <td>...</td>\n",
       "      <td>125.338794</td>\n",
       "      <td>66.256028</td>\n",
       "      <td>61.119149</td>\n",
       "      <td>29.317331</td>\n",
       "      <td>55.757415</td>\n",
       "      <td>40.177307</td>\n",
       "      <td>496.123024</td>\n",
       "      <td>2.703626</td>\n",
       "      <td>1.328095</td>\n",
       "      <td>79442.502883</td>\n",
       "    </tr>\n",
       "    <tr>\n",
       "      <th>min</th>\n",
       "      <td>1.000000</td>\n",
       "      <td>21.000000</td>\n",
       "      <td>1300.000000</td>\n",
       "      <td>1872.000000</td>\n",
       "      <td>1950.000000</td>\n",
       "      <td>0.000000</td>\n",
       "      <td>0.000000</td>\n",
       "      <td>0.000000</td>\n",
       "      <td>0.000000</td>\n",
       "      <td>0.000000</td>\n",
       "      <td>...</td>\n",
       "      <td>0.000000</td>\n",
       "      <td>0.000000</td>\n",
       "      <td>0.000000</td>\n",
       "      <td>0.000000</td>\n",
       "      <td>0.000000</td>\n",
       "      <td>0.000000</td>\n",
       "      <td>0.000000</td>\n",
       "      <td>1.000000</td>\n",
       "      <td>2006.000000</td>\n",
       "      <td>34900.000000</td>\n",
       "    </tr>\n",
       "    <tr>\n",
       "      <th>25%</th>\n",
       "      <td>365.750000</td>\n",
       "      <td>59.000000</td>\n",
       "      <td>7553.500000</td>\n",
       "      <td>1954.000000</td>\n",
       "      <td>1967.000000</td>\n",
       "      <td>0.000000</td>\n",
       "      <td>0.000000</td>\n",
       "      <td>0.000000</td>\n",
       "      <td>223.000000</td>\n",
       "      <td>795.750000</td>\n",
       "      <td>...</td>\n",
       "      <td>0.000000</td>\n",
       "      <td>0.000000</td>\n",
       "      <td>0.000000</td>\n",
       "      <td>0.000000</td>\n",
       "      <td>0.000000</td>\n",
       "      <td>0.000000</td>\n",
       "      <td>0.000000</td>\n",
       "      <td>5.000000</td>\n",
       "      <td>2007.000000</td>\n",
       "      <td>129975.000000</td>\n",
       "    </tr>\n",
       "    <tr>\n",
       "      <th>50%</th>\n",
       "      <td>730.500000</td>\n",
       "      <td>69.000000</td>\n",
       "      <td>9478.500000</td>\n",
       "      <td>1973.000000</td>\n",
       "      <td>1994.000000</td>\n",
       "      <td>0.000000</td>\n",
       "      <td>383.500000</td>\n",
       "      <td>0.000000</td>\n",
       "      <td>477.500000</td>\n",
       "      <td>991.500000</td>\n",
       "      <td>...</td>\n",
       "      <td>0.000000</td>\n",
       "      <td>25.000000</td>\n",
       "      <td>0.000000</td>\n",
       "      <td>0.000000</td>\n",
       "      <td>0.000000</td>\n",
       "      <td>0.000000</td>\n",
       "      <td>0.000000</td>\n",
       "      <td>6.000000</td>\n",
       "      <td>2008.000000</td>\n",
       "      <td>163000.000000</td>\n",
       "    </tr>\n",
       "    <tr>\n",
       "      <th>75%</th>\n",
       "      <td>1095.250000</td>\n",
       "      <td>80.000000</td>\n",
       "      <td>11601.500000</td>\n",
       "      <td>2000.000000</td>\n",
       "      <td>2004.000000</td>\n",
       "      <td>166.000000</td>\n",
       "      <td>712.250000</td>\n",
       "      <td>0.000000</td>\n",
       "      <td>808.000000</td>\n",
       "      <td>1298.250000</td>\n",
       "      <td>...</td>\n",
       "      <td>168.000000</td>\n",
       "      <td>68.000000</td>\n",
       "      <td>0.000000</td>\n",
       "      <td>0.000000</td>\n",
       "      <td>0.000000</td>\n",
       "      <td>0.000000</td>\n",
       "      <td>0.000000</td>\n",
       "      <td>8.000000</td>\n",
       "      <td>2009.000000</td>\n",
       "      <td>214000.000000</td>\n",
       "    </tr>\n",
       "    <tr>\n",
       "      <th>max</th>\n",
       "      <td>1460.000000</td>\n",
       "      <td>313.000000</td>\n",
       "      <td>215245.000000</td>\n",
       "      <td>2010.000000</td>\n",
       "      <td>2010.000000</td>\n",
       "      <td>1600.000000</td>\n",
       "      <td>5644.000000</td>\n",
       "      <td>1474.000000</td>\n",
       "      <td>2336.000000</td>\n",
       "      <td>6110.000000</td>\n",
       "      <td>...</td>\n",
       "      <td>857.000000</td>\n",
       "      <td>547.000000</td>\n",
       "      <td>552.000000</td>\n",
       "      <td>508.000000</td>\n",
       "      <td>480.000000</td>\n",
       "      <td>738.000000</td>\n",
       "      <td>15500.000000</td>\n",
       "      <td>12.000000</td>\n",
       "      <td>2010.000000</td>\n",
       "      <td>755000.000000</td>\n",
       "    </tr>\n",
       "  </tbody>\n",
       "</table>\n",
       "<p>8 rows × 35 columns</p>\n",
       "</div>"
      ],
      "text/plain": [
       "                Id  LotFrontage        LotArea    YearBuilt  YearRemodAdd  \\\n",
       "count  1460.000000  1201.000000    1460.000000  1460.000000   1460.000000   \n",
       "mean    730.500000    70.049958   10516.828082  1971.267808   1984.865753   \n",
       "std     421.610009    24.284752    9981.264932    30.202904     20.645407   \n",
       "min       1.000000    21.000000    1300.000000  1872.000000   1950.000000   \n",
       "25%     365.750000    59.000000    7553.500000  1954.000000   1967.000000   \n",
       "50%     730.500000    69.000000    9478.500000  1973.000000   1994.000000   \n",
       "75%    1095.250000    80.000000   11601.500000  2000.000000   2004.000000   \n",
       "max    1460.000000   313.000000  215245.000000  2010.000000   2010.000000   \n",
       "\n",
       "        MasVnrArea   BsmtFinSF1   BsmtFinSF2    BsmtUnfSF  TotalBsmtSF  ...  \\\n",
       "count  1452.000000  1460.000000  1460.000000  1460.000000  1460.000000  ...   \n",
       "mean    103.685262   443.639726    46.549315   567.240411  1057.429452  ...   \n",
       "std     181.066207   456.098091   161.319273   441.866955   438.705324  ...   \n",
       "min       0.000000     0.000000     0.000000     0.000000     0.000000  ...   \n",
       "25%       0.000000     0.000000     0.000000   223.000000   795.750000  ...   \n",
       "50%       0.000000   383.500000     0.000000   477.500000   991.500000  ...   \n",
       "75%     166.000000   712.250000     0.000000   808.000000  1298.250000  ...   \n",
       "max    1600.000000  5644.000000  1474.000000  2336.000000  6110.000000  ...   \n",
       "\n",
       "        WoodDeckSF  OpenPorchSF  EnclosedPorch    3SsnPorch  ScreenPorch  \\\n",
       "count  1460.000000  1460.000000    1460.000000  1460.000000  1460.000000   \n",
       "mean     94.244521    46.660274      21.954110     3.409589    15.060959   \n",
       "std     125.338794    66.256028      61.119149    29.317331    55.757415   \n",
       "min       0.000000     0.000000       0.000000     0.000000     0.000000   \n",
       "25%       0.000000     0.000000       0.000000     0.000000     0.000000   \n",
       "50%       0.000000    25.000000       0.000000     0.000000     0.000000   \n",
       "75%     168.000000    68.000000       0.000000     0.000000     0.000000   \n",
       "max     857.000000   547.000000     552.000000   508.000000   480.000000   \n",
       "\n",
       "          PoolArea       MiscVal       MoSold       YrSold  \\\n",
       "count  1460.000000   1460.000000  1460.000000  1460.000000   \n",
       "mean      2.758904     43.489041     6.321918  2007.815753   \n",
       "std      40.177307    496.123024     2.703626     1.328095   \n",
       "min       0.000000      0.000000     1.000000  2006.000000   \n",
       "25%       0.000000      0.000000     5.000000  2007.000000   \n",
       "50%       0.000000      0.000000     6.000000  2008.000000   \n",
       "75%       0.000000      0.000000     8.000000  2009.000000   \n",
       "max     738.000000  15500.000000    12.000000  2010.000000   \n",
       "\n",
       "       Property_Sale_Price  \n",
       "count          1460.000000  \n",
       "mean         180921.195890  \n",
       "std           79442.502883  \n",
       "min           34900.000000  \n",
       "25%          129975.000000  \n",
       "50%          163000.000000  \n",
       "75%          214000.000000  \n",
       "max          755000.000000  \n",
       "\n",
       "[8 rows x 35 columns]"
      ]
     },
     "execution_count": 8,
     "metadata": {},
     "output_type": "execute_result"
    }
   ],
   "source": [
    "# by default the describe function returns the summary of numerical variables\n",
    "df_property.describe()"
   ]
  },
  {
   "cell_type": "markdown",
   "metadata": {},
   "source": [
    "<table align=\"left\">\n",
    "    <tr>\n",
    "        <td width=\"8%\">\n",
    "            <img src=\"infer.png\">\n",
    "        </td>\n",
    "        <td>\n",
    "            <div align=\"left\", style=\"font-size:120%\">\n",
    "                <font color=\"#21618C\">\n",
    "<b>The above output displays the summary statistics of all the numeric variables like mean, median, standard deviation, minimum, and the maximum values, the first and third quantiles.<br><br> \n",
    "    We can see that the LotFrontage ranges from 21 feet to 313 feet, with mean 70 feet. \n",
    "    We can see that the minimum pool area is 0 sq.ft. and this means that not all houses have pools and yet have been considered to calculate the mean pool area. Also the count for LotFrontage is less than the total number of observations which indicates the presence of missing values.\n",
    "    </b>     </font>\n",
    "            </div>\n",
    "        </td>\n",
    "    </tr>\n",
    "</table>"
   ]
  },
  {
   "cell_type": "markdown",
   "metadata": {},
   "source": [
    "**2. For getting the statistical summary of categorical features we use the describe(include = object)**"
   ]
  },
  {
   "cell_type": "code",
   "execution_count": 9,
   "metadata": {
    "ExecuteTime": {
     "end_time": "2021-10-25T12:21:20.568722Z",
     "start_time": "2021-10-25T12:21:20.483610Z"
    }
   },
   "outputs": [
    {
     "data": {
      "text/html": [
       "<div>\n",
       "<style scoped>\n",
       "    .dataframe tbody tr th:only-of-type {\n",
       "        vertical-align: middle;\n",
       "    }\n",
       "\n",
       "    .dataframe tbody tr th {\n",
       "        vertical-align: top;\n",
       "    }\n",
       "\n",
       "    .dataframe thead th {\n",
       "        text-align: right;\n",
       "    }\n",
       "</style>\n",
       "<table border=\"1\" class=\"dataframe\">\n",
       "  <thead>\n",
       "    <tr style=\"text-align: right;\">\n",
       "      <th></th>\n",
       "      <th>Dwell_Type</th>\n",
       "      <th>Zone_Class</th>\n",
       "      <th>Road_Type</th>\n",
       "      <th>Alley</th>\n",
       "      <th>Property_Shape</th>\n",
       "      <th>LandContour</th>\n",
       "      <th>Utilities</th>\n",
       "      <th>LotConfig</th>\n",
       "      <th>LandSlope</th>\n",
       "      <th>Neighborhood</th>\n",
       "      <th>...</th>\n",
       "      <th>GarageType</th>\n",
       "      <th>GarageFinish</th>\n",
       "      <th>GarageQual</th>\n",
       "      <th>GarageCond</th>\n",
       "      <th>PavedDrive</th>\n",
       "      <th>PoolQC</th>\n",
       "      <th>Fence</th>\n",
       "      <th>MiscFeature</th>\n",
       "      <th>SaleType</th>\n",
       "      <th>SaleCondition</th>\n",
       "    </tr>\n",
       "  </thead>\n",
       "  <tbody>\n",
       "    <tr>\n",
       "      <th>count</th>\n",
       "      <td>1460</td>\n",
       "      <td>1460</td>\n",
       "      <td>1460</td>\n",
       "      <td>91</td>\n",
       "      <td>1460</td>\n",
       "      <td>1460</td>\n",
       "      <td>1460</td>\n",
       "      <td>1460</td>\n",
       "      <td>1460</td>\n",
       "      <td>1460</td>\n",
       "      <td>...</td>\n",
       "      <td>1379</td>\n",
       "      <td>1379</td>\n",
       "      <td>1379</td>\n",
       "      <td>1379</td>\n",
       "      <td>1460</td>\n",
       "      <td>7</td>\n",
       "      <td>281</td>\n",
       "      <td>54</td>\n",
       "      <td>1460</td>\n",
       "      <td>1460</td>\n",
       "    </tr>\n",
       "    <tr>\n",
       "      <th>unique</th>\n",
       "      <td>15</td>\n",
       "      <td>5</td>\n",
       "      <td>2</td>\n",
       "      <td>2</td>\n",
       "      <td>4</td>\n",
       "      <td>4</td>\n",
       "      <td>2</td>\n",
       "      <td>5</td>\n",
       "      <td>3</td>\n",
       "      <td>25</td>\n",
       "      <td>...</td>\n",
       "      <td>6</td>\n",
       "      <td>3</td>\n",
       "      <td>5</td>\n",
       "      <td>5</td>\n",
       "      <td>3</td>\n",
       "      <td>3</td>\n",
       "      <td>4</td>\n",
       "      <td>4</td>\n",
       "      <td>9</td>\n",
       "      <td>6</td>\n",
       "    </tr>\n",
       "    <tr>\n",
       "      <th>top</th>\n",
       "      <td>20</td>\n",
       "      <td>RL</td>\n",
       "      <td>Pave</td>\n",
       "      <td>Grvl</td>\n",
       "      <td>Reg</td>\n",
       "      <td>Lvl</td>\n",
       "      <td>AllPub</td>\n",
       "      <td>Inside</td>\n",
       "      <td>Gtl</td>\n",
       "      <td>NAmes</td>\n",
       "      <td>...</td>\n",
       "      <td>Attchd</td>\n",
       "      <td>Unf</td>\n",
       "      <td>TA</td>\n",
       "      <td>TA</td>\n",
       "      <td>Y</td>\n",
       "      <td>Gd</td>\n",
       "      <td>MnPrv</td>\n",
       "      <td>Shed</td>\n",
       "      <td>WD</td>\n",
       "      <td>Normal</td>\n",
       "    </tr>\n",
       "    <tr>\n",
       "      <th>freq</th>\n",
       "      <td>536</td>\n",
       "      <td>1151</td>\n",
       "      <td>1454</td>\n",
       "      <td>50</td>\n",
       "      <td>925</td>\n",
       "      <td>1311</td>\n",
       "      <td>1459</td>\n",
       "      <td>1052</td>\n",
       "      <td>1382</td>\n",
       "      <td>225</td>\n",
       "      <td>...</td>\n",
       "      <td>870</td>\n",
       "      <td>605</td>\n",
       "      <td>1311</td>\n",
       "      <td>1326</td>\n",
       "      <td>1340</td>\n",
       "      <td>3</td>\n",
       "      <td>157</td>\n",
       "      <td>49</td>\n",
       "      <td>1267</td>\n",
       "      <td>1198</td>\n",
       "    </tr>\n",
       "  </tbody>\n",
       "</table>\n",
       "<p>4 rows × 46 columns</p>\n",
       "</div>"
      ],
      "text/plain": [
       "        Dwell_Type Zone_Class Road_Type Alley Property_Shape LandContour  \\\n",
       "count         1460       1460      1460    91           1460        1460   \n",
       "unique          15          5         2     2              4           4   \n",
       "top             20         RL      Pave  Grvl            Reg         Lvl   \n",
       "freq           536       1151      1454    50            925        1311   \n",
       "\n",
       "       Utilities LotConfig LandSlope Neighborhood  ... GarageType  \\\n",
       "count       1460      1460      1460         1460  ...       1379   \n",
       "unique         2         5         3           25  ...          6   \n",
       "top       AllPub    Inside       Gtl        NAmes  ...     Attchd   \n",
       "freq        1459      1052      1382          225  ...        870   \n",
       "\n",
       "       GarageFinish GarageQual GarageCond  PavedDrive  PoolQC  Fence  \\\n",
       "count          1379       1379       1379        1460       7    281   \n",
       "unique            3          5          5           3       3      4   \n",
       "top             Unf         TA         TA           Y      Gd  MnPrv   \n",
       "freq            605       1311       1326        1340       3    157   \n",
       "\n",
       "       MiscFeature SaleType SaleCondition  \n",
       "count           54     1460          1460  \n",
       "unique           4        9             6  \n",
       "top           Shed       WD        Normal  \n",
       "freq            49     1267          1198  \n",
       "\n",
       "[4 rows x 46 columns]"
      ]
     },
     "execution_count": 9,
     "metadata": {},
     "output_type": "execute_result"
    }
   ],
   "source": [
    "# summary of categorical variables\n",
    "df_property.describe(include = object)"
   ]
  },
  {
   "cell_type": "code",
   "execution_count": 10,
   "metadata": {
    "ExecuteTime": {
     "end_time": "2021-10-25T12:21:24.498797Z",
     "start_time": "2021-10-25T12:21:24.490152Z"
    }
   },
   "outputs": [
    {
     "data": {
      "text/plain": [
       "15"
      ]
     },
     "execution_count": 10,
     "metadata": {},
     "output_type": "execute_result"
    }
   ],
   "source": [
    "df_property[\"Dwell_Type\"].value_counts().count()"
   ]
  },
  {
   "cell_type": "markdown",
   "metadata": {},
   "source": [
    "<table align=\"left\">\n",
    "    <tr>\n",
    "        <td width=\"8%\">\n",
    "            <img src=\"infer.png\">\n",
    "        </td>\n",
    "        <td>\n",
    "            <div align=\"left\", style=\"font-size:120%\">\n",
    "                <font color=\"#21618C\">\n",
    "                    <b>The summary statistics for categorical variables contains information about the total number of observations, number of unique classes, the most occurring class, and its frequency.:<br><br> \n",
    "                        Lets understand the outputs of the above table using variable 'Property_Shape' <br> \n",
    "                        count: Number of observations = 2073 <br> \n",
    "                        unique: Number of unique classes in the column = 4 classes<br>  \n",
    "                        top: The most occurring class = Reg<br>\n",
    "                        frequency: Frequency of the most repeated class; out of 2073 observations Reg has a frequency of 925 <br> It is visible that some of the variables have count less than total number of observations which indicates the presence of missing values.</b>  \n",
    "                </font>\n",
    "            </div>\n",
    "        </td>\n",
    "    </tr>\n",
    "</table>"
   ]
  },
  {
   "cell_type": "markdown",
   "metadata": {},
   "source": [
    "As, the variable `PoolQC` has only 8 non-zero values out of 2073 observations. And also the variable `PoolArea` contains the area of these 8 pools, we will remove the variables `PoolQC` and `PoolArea`."
   ]
  },
  {
   "cell_type": "code",
   "execution_count": 11,
   "metadata": {
    "ExecuteTime": {
     "end_time": "2021-10-25T12:21:27.034873Z",
     "start_time": "2021-10-25T12:21:27.023098Z"
    }
   },
   "outputs": [
    {
     "data": {
      "text/plain": [
       "(1460, 79)"
      ]
     },
     "execution_count": 11,
     "metadata": {},
     "output_type": "execute_result"
    }
   ],
   "source": [
    "# use drop() to drop the redundant variables\n",
    "# 'axis = 1' drops the corresponding columns\n",
    "df_property = df_property.drop(['PoolQC', 'PoolArea'], axis= 1)\n",
    "\n",
    "# re-check the shape of the dataframe\n",
    "df_property.shape"
   ]
  },
  {
   "cell_type": "markdown",
   "metadata": {},
   "source": [
    "<a id='distribution_variables'></a>\n",
    "### 4.1.3 Distribution of Variables"
   ]
  },
  {
   "cell_type": "markdown",
   "metadata": {},
   "source": [
    "<table align=\"left\">\n",
    "    <tr>\n",
    "        <td width=\"8%\">\n",
    "            <img src=\"todo.png\">\n",
    "        </td>\n",
    "        <td>\n",
    "            <div align=\"left\", style=\"font-size:120%\">\n",
    "                <font color=\"#21618C\">\n",
    "                    <b>Check the distribution of all the variables.\n",
    "                    </b>\n",
    "                </font>\n",
    "            </div>\n",
    "        </td>\n",
    "    </tr>\n",
    "</table>"
   ]
  },
  {
   "cell_type": "markdown",
   "metadata": {},
   "source": [
    "**1. Distribution of numeric variables**\n",
    "\n",
    "We plot the histogram to check the distribution of the variables."
   ]
  },
  {
   "cell_type": "code",
   "execution_count": 12,
   "metadata": {
    "ExecuteTime": {
     "end_time": "2021-10-25T12:22:30.432355Z",
     "start_time": "2021-10-25T12:22:30.420355Z"
    },
    "scrolled": true
   },
   "outputs": [
    {
     "data": {
      "text/plain": [
       "Index(['Id', 'LotFrontage', 'LotArea', 'YearBuilt', 'YearRemodAdd',\n",
       "       'MasVnrArea', 'BsmtFinSF1', 'BsmtFinSF2', 'BsmtUnfSF', 'TotalBsmtSF',\n",
       "       '1stFlrSF', '2ndFlrSF', 'LowQualFinSF', 'GrLivArea', 'BsmtFullBath',\n",
       "       'BsmtHalfBath', 'FullBath', 'HalfBath', 'BedroomAbvGr', 'KitchenAbvGr',\n",
       "       'TotRmsAbvGrd', 'Fireplaces', 'GarageYrBlt', 'GarageCars', 'GarageArea',\n",
       "       'WoodDeckSF', 'OpenPorchSF', 'EnclosedPorch', '3SsnPorch',\n",
       "       'ScreenPorch', 'MiscVal', 'MoSold', 'YrSold', 'Property_Sale_Price'],\n",
       "      dtype='object')"
      ]
     },
     "execution_count": 12,
     "metadata": {},
     "output_type": "execute_result"
    }
   ],
   "source": [
    "# filter the numerical features in the dataset using select_dtypes()\n",
    "# include=np.number is used to select the numeric features\n",
    "df_numeric_features = df_property.select_dtypes(include=np.number)\n",
    "\n",
    "# display the numeric features\n",
    "df_numeric_features.columns"
   ]
  },
  {
   "cell_type": "code",
   "execution_count": 13,
   "metadata": {
    "ExecuteTime": {
     "end_time": "2021-10-25T12:22:36.867126Z",
     "start_time": "2021-10-25T12:22:35.096526Z"
    }
   },
   "outputs": [
    {
     "data": {
      "image/png": "[encoded data removed]",
      "text/plain": [
       "<Figure size 1080x576 with 36 Axes>"
      ]
     },
     "metadata": {
      "needs_background": "light"
     },
     "output_type": "display_data"
    }
   ],
   "source": [
    "# plot the histogram of numeric variables\n",
    "# hist() by default considers the numeric variables only, \n",
    "# rotate the x-axis labels by 20 degree using the parameter, 'xrot'\n",
    "df_property.hist(xrot = 20, color = \"maroon\")\n",
    "\n",
    "# adjust the subplots\n",
    "plt.tight_layout()\n",
    "\n",
    "# display the plot\n",
    "plt.show()  "
   ]
  },
  {
   "cell_type": "markdown",
   "metadata": {},
   "source": [
    "#### Visualize the target variable"
   ]
  },
  {
   "cell_type": "code",
   "execution_count": 14,
   "metadata": {
    "ExecuteTime": {
     "end_time": "2021-10-25T13:24:23.153981Z",
     "start_time": "2021-10-25T13:24:23.014101Z"
    }
   },
   "outputs": [
    {
     "data": {
      "image/png": "[encoded data removed]",
      "text/plain": [
       "<Figure size 1080x576 with 1 Axes>"
      ]
     },
     "metadata": {
      "needs_background": "light"
     },
     "output_type": "display_data"
    }
   ],
   "source": [
    "# Sale Price Frequency Distribution\n",
    "# set the xlabel and the fontsize\n",
    "plt.xlabel(\"Sale Price\", fontsize=15)\n",
    "\n",
    "# set the ylabel and the fontsize\n",
    "plt.ylabel(\"Frequency\", fontsize=15)\n",
    "\n",
    "# set the title of the plot\n",
    "plt.title(\"Frequency Distribution\", fontsize=15)\n",
    "\n",
    "# plot the histogram for the target variable\n",
    "plt.hist(df_property[\"Property_Sale_Price\"], color = 'maroon')\n",
    "plt.show()"
   ]
  },
  {
   "cell_type": "code",
   "execution_count": 15,
   "metadata": {
    "ExecuteTime": {
     "end_time": "2021-10-25T13:26:08.726093Z",
     "start_time": "2021-10-25T13:26:08.590570Z"
    }
   },
   "outputs": [
    {
     "data": {
      "image/png": "[encoded data removed]",
      "text/plain": [
       "<Figure size 1080x576 with 1 Axes>"
      ]
     },
     "metadata": {
      "needs_background": "light"
     },
     "output_type": "display_data"
    }
   ],
   "source": [
    "# Sale Price Frequency Distribution\n",
    "#Tableau bins are containers of equal size that store data values corresponding to or fitting in bin size. \n",
    "# set the xlabel and the fontsize\n",
    "plt.xlabel(\"Sale Price\", fontsize=15)\n",
    "\n",
    "# set the ylabel and the fontsize\n",
    "plt.ylabel(\"Frequency\", fontsize=15)\n",
    "\n",
    "# set the title of the plot\n",
    "plt.title(\"Frequency Distribution\", fontsize=15)\n",
    "\n",
    "# plot the histogram for the target variable\n",
    "plt.hist(df_property[\"Property_Sale_Price\"], color = 'maroon',bins=20)\n",
    "plt.show()"
   ]
  },
  {
   "cell_type": "markdown",
   "metadata": {},
   "source": [
    "<table align=\"left\">\n",
    "    <tr>\n",
    "        <td width=\"8%\">\n",
    "            <img src=\"infer.png\">\n",
    "        </td>\n",
    "        <td>\n",
    "            <div align=\"left\", style=\"font-size:120%\">\n",
    "                <font color=\"#21618C\">\n",
    "                    <b> The above plot shows that the target variable 'Property_Sale_Price' is right skewed (right tailed). \n",
    "                    </b>   \n",
    "                </font>\n",
    "            </div>\n",
    "        </td>\n",
    "    </tr>\n",
    "</table>\n",
    "\n"
   ]
  },
  {
   "cell_type": "markdown",
   "metadata": {},
   "source": [
    "**2. Distribution of categorical variables**"
   ]
  },
  {
   "cell_type": "markdown",
   "metadata": {},
   "source": [
    "For the categoric variables, we plot the countplot (Uni-Variate Analysis)"
   ]
  },
  {
   "cell_type": "code",
   "execution_count": 16,
   "metadata": {
    "ExecuteTime": {
     "end_time": "2021-10-25T13:27:33.854240Z",
     "start_time": "2021-10-25T13:27:30.859227Z"
    },
    "scrolled": false
   },
   "outputs": [
    {
     "data": {
      "image/png": "[encoded data removed]",
      "text/plain": [
       "<Figure size 3600x2520 with 42 Axes>"
      ]
     },
     "metadata": {
      "needs_background": "light"
     },
     "output_type": "display_data"
    }
   ],
   "source": [
    "# create an empty list to store all the categorical variables\n",
    "categorical=[]\n",
    "\n",
    "# check the data type of each variable\n",
    "for column in df_property:\n",
    "\n",
    "    # check if the variable has the categorical type \n",
    "    if is_string_dtype(df_property[column]):\n",
    "        \n",
    "        # append the categorical variables to the list 'categorical'\n",
    "        categorical.append(column)\n",
    "\n",
    "# plot the count plot for each categorical variable \n",
    "# 'figsize' sets the figure size\n",
    "fig, ax = plt.subplots(nrows=7, ncols=6, figsize = (50, 35))\n",
    "\n",
    "# plot the count plot using countplot() for each categorical variable\n",
    "for variable, subplot in zip(categorical, ax.flatten()):\n",
    "    sns.countplot(df_property[variable], ax = subplot)\n",
    "    \n",
    "# display the plot\n",
    "plt.show()"
   ]
  },
  {
   "cell_type": "markdown",
   "metadata": {},
   "source": [
    "#### Boxplot of OverallQuality and Property_Sale_Price (Bi-Variate Analysis)"
   ]
  },
  {
   "cell_type": "code",
   "execution_count": 17,
   "metadata": {
    "ExecuteTime": {
     "end_time": "2021-10-25T13:27:45.789682Z",
     "start_time": "2021-10-25T13:27:45.607693Z"
    }
   },
   "outputs": [
    {
     "data": {
      "image/png": "[encoded data removed]",
      "text/plain": [
       "<Figure size 1080x576 with 1 Axes>"
      ]
     },
     "metadata": {
      "needs_background": "light"
     },
     "output_type": "display_data"
    }
   ],
   "source": [
    "# draw the boxplot for OverallQuality and the Property_Sale_Price\n",
    "sns.boxplot(y=\"Property_Sale_Price\", x=\"OverallQual\", data= df_property)\n",
    "\n",
    "# set the title of the plot and the fontsize\n",
    "plt.title(\"Overall Quality vs Property_Sale_Price\", fontsize=15)\n",
    "\n",
    "# set the xlabel and the fontsize\n",
    "plt.xlabel(\"Overall Quality\", fontsize=15)\n",
    "\n",
    "# set the ylabel and the fontsize\n",
    "plt.ylabel(\"Sale Price\", fontsize=15)\n",
    "\n",
    "# display the plot\n",
    "plt.show()"
   ]
  },
  {
   "cell_type": "markdown",
   "metadata": {},
   "source": [
    "#### Boxplot of Overall Condition and Property_Sale_Price"
   ]
  },
  {
   "cell_type": "code",
   "execution_count": null,
   "metadata": {},
   "outputs": [],
   "source": [
    "# draw the boxplot for OverallQuality and the Property_Sale_Price\n",
    "sns.boxplot(y=\"Property_Sale_Price\", x=\"OverallCond\", data= df_property)\n",
    "\n",
    "# set the title of the plot and the fontsize\n",
    "plt.title(\"Overall Condition vs Property_Sale_Price\", fontsize=15)\n",
    "\n",
    "# set the xlabel and the fontsize\n",
    "plt.xlabel(\"Overall Condition\", fontsize=15)\n",
    "\n",
    "# set the ylabel and the fontsize\n",
    "plt.ylabel(\"Sale Price\", fontsize=15)\n",
    "\n",
    "# display the plot\n",
    "plt.show()"
   ]
  },
  {
   "cell_type": "markdown",
   "metadata": {},
   "source": [
    "#### Draw the pairplot of the numeric variables"
   ]
  },
  {
   "cell_type": "code",
   "execution_count": null,
   "metadata": {},
   "outputs": [],
   "source": [
    "# Pairplot of numeric variables\n",
    "\n",
    "# select the columns for the pairplot\n",
    "columns= [\"Property_Sale_Price\", \"GrLivArea\", \"GarageCars\", \"TotalBsmtSF\", \"FullBath\", \"YearBuilt\", \"YearRemodAdd\"]\n",
    "\n",
    "# draw the pairplot such that the diagonal should be density plot and the other graphs should be scatter plot\n",
    "sns.pairplot(df_property[columns], size=2, kind= \"scatter\", diag_kind=\"kde\")\n",
    "\n",
    "# display the plot\n",
    "plt.show()"
   ]
  },
  {
   "cell_type": "markdown",
   "metadata": {},
   "source": [
    "<a id='outlier'></a>\n",
    "### 4.1.4 Outliers Discovery"
   ]
  },
  {
   "cell_type": "code",
   "execution_count": null,
   "metadata": {
    "scrolled": false
   },
   "outputs": [],
   "source": [
    "# plot a boxplot of target variable to detect the outliers\n",
    "sns.boxplot(df_property['Property_Sale_Price'], color='maroon')\n",
    "\n",
    "# set plot label\n",
    "# set text size using 'fontsize'\n",
    "plt.title('Distribution of Target Variable (Property_Sale_Price)', fontsize = 15)\n",
    "\n",
    "# display the plot\n",
    "plt.show()"
   ]
  },
  {
   "cell_type": "markdown",
   "metadata": {},
   "source": [
    "From the above plot we can see that there are outliers present in the target variable 'Property_Sale_Price'. Outliers badly affect the prediction of the regression model and thus, we will remove these outliers."
   ]
  },
  {
   "cell_type": "code",
   "execution_count": null,
   "metadata": {
    "scrolled": true
   },
   "outputs": [],
   "source": [
    "# remove the observations with the house price greater than or equal to 500000\n",
    "df_property = df_property[df_property['Property_Sale_Price'] < 500000]\n",
    "\n",
    "# check the dimension of the data\n",
    "df_property.shape"
   ]
  },
  {
   "cell_type": "markdown",
   "metadata": {},
   "source": [
    "<a id='Missing_Values'></a>\n",
    "### 4.1.5 Missing Values\n",
    "\n",
    "If we do not handle the missing values properly then we may end up drawing an inaccurate inference about the data."
   ]
  },
  {
   "cell_type": "markdown",
   "metadata": {},
   "source": [
    "<table align=\"left\">\n",
    "    <tr>\n",
    "        <td width=\"8%\">\n",
    "            <img src=\"todo.png\">\n",
    "        </td>\n",
    "        <td>\n",
    "            <div align=\"left\", style=\"font-size:120%\">\n",
    "                <font color=\"#21618C\">\n",
    "                    <b>Look for the missing values and handle the missing values separately for numerical and categorical values.</b>\n",
    "                </font>\n",
    "            </div>\n",
    "        </td>\n",
    "    </tr>\n",
    "</table>"
   ]
  },
  {
   "cell_type": "markdown",
   "metadata": {},
   "source": [
    "**Look for the missing values**"
   ]
  },
  {
   "cell_type": "code",
   "execution_count": null,
   "metadata": {},
   "outputs": [],
   "source": [
    "# 'isnull().sum()' returns the number of missing values in each variable\n",
    "# 'ascending = False': sorts values in the descending order\n",
    "total_nulls = df_property.isnull().sum().sort_values(ascending = False)          \n",
    "\n",
    "# calculate the percentage of missing values\n",
    "# 'ascending = False' sorts values in the descending order\n",
    "percent_null = (df_property.isnull().sum()*100/df_property.isnull().count())  \n",
    "percent_null = percent_null.sort_values(ascending = False) \n",
    "\n",
    "# concat the 'total_nulls' and 'percent_null' columns\n",
    "# 'axis = 1' stands for columns\n",
    "missing_values = pd.concat([total_nulls, percent_null], axis = 1, keys = ['Total Nulls', 'Percentage of Missing Values'])    \n",
    "\n",
    "# add the column containing data type of each variable\n",
    "missing_values['Data Type'] = df_property[missing_values.index].dtypes\n",
    "missing_values"
   ]
  },
  {
   "cell_type": "markdown",
   "metadata": {},
   "source": [
    "<table align=\"left\">\n",
    "    <tr>\n",
    "        <td width=\"8%\">\n",
    "            <img src=\"infer.png\">\n",
    "        </td>\n",
    "        <td>\n",
    "            <div align=\"left\", style=\"font-size:120%\">\n",
    "                <font color=\"#21618C\">\n",
    "                    <b>We can see that 18 variables contain the missing values.</b>\n",
    "                </font>\n",
    "            </div>\n",
    "        </td>\n",
    "    </tr>\n",
    "</table>"
   ]
  },
  {
   "cell_type": "markdown",
   "metadata": {},
   "source": [
    "**Handle the missing values for numerical variables**"
   ]
  },
  {
   "cell_type": "code",
   "execution_count": null,
   "metadata": {
    "scrolled": true
   },
   "outputs": [],
   "source": [
    "# filter out the categorical variables and consider only the numeric variables with missing values\n",
    "num_missing_values = missing_values[(missing_values['Total Nulls'] > 0) & (missing_values['Data Type'] != 'object')]\n",
    "num_missing_values"
   ]
  },
  {
   "cell_type": "markdown",
   "metadata": {},
   "source": [
    "For the numerical variables, we can replace the missing values by their mean, median or mode as per the requirement."
   ]
  },
  {
   "cell_type": "markdown",
   "metadata": {},
   "source": [
    "#### The variable 'LotFrontage' is right skewed and thus we will fill the missing values with its median value"
   ]
  },
  {
   "cell_type": "code",
   "execution_count": null,
   "metadata": {},
   "outputs": [],
   "source": [
    "# use the function fillna() to fill the missing values\n",
    "df_property['LotFrontage'] = df_property['LotFrontage'].fillna(df_property['LotFrontage'].median())"
   ]
  },
  {
   "cell_type": "markdown",
   "metadata": {},
   "source": [
    "#### We will replace the missing values in the numeric variable `GarageYrBlt` by 0. The missing values in this variable indicates that there are 81 observations for which garage facility is not available."
   ]
  },
  {
   "cell_type": "code",
   "execution_count": null,
   "metadata": {},
   "outputs": [],
   "source": [
    "# use the function fillna() to replace missing values in 'GarageYrBlt' with 0 \n",
    "df_property['GarageYrBlt'] = df_property['GarageYrBlt'].fillna(0)"
   ]
  },
  {
   "cell_type": "markdown",
   "metadata": {},
   "source": [
    "#### The variable 'MasVnrArea' is positively skewed and thus we will fill the missing values with its median value"
   ]
  },
  {
   "cell_type": "code",
   "execution_count": null,
   "metadata": {},
   "outputs": [],
   "source": [
    "# use the function fillna() to fill the missing values\n",
    "df_property['MasVnrArea'] = df_property['MasVnrArea'].fillna(df_property['MasVnrArea'].median())"
   ]
  },
  {
   "cell_type": "markdown",
   "metadata": {},
   "source": [
    "**Handle the missing values for categorical variables**"
   ]
  },
  {
   "cell_type": "code",
   "execution_count": null,
   "metadata": {},
   "outputs": [],
   "source": [
    "# filter out the numerical variables and consider only the categorical variables with missing values\n",
    "cat_missing_values = missing_values[(missing_values['Total Nulls'] > 0) & (missing_values['Data Type'] == 'object')]\n",
    "cat_missing_values"
   ]
  },
  {
   "cell_type": "code",
   "execution_count": null,
   "metadata": {},
   "outputs": [],
   "source": [
    "# according to the data definition, 'NA' denotes the absence of miscellaneous feature\n",
    "# replace NA values in 'MiscFeature' with a valid value, 'None'\n",
    "df_property['MiscFeature'] = df_property['MiscFeature'].fillna('None')\n",
    "\n",
    "# replace NA values in 'Alley' with a valid value, 'No alley access' \n",
    "df_property['Alley'] = df_property['Alley'].fillna('No alley access')\n",
    "\n",
    "# replace NA values in 'Fence' with a valid value, 'No Fence'\n",
    "df_property['Fence'] = df_property['Fence'].fillna('No Fence')\n",
    "\n",
    "# replace null values in 'FireplaceQu' with a valid value, 'No Fireplace' \n",
    "df_property['FireplaceQu'] = df_property['FireplaceQu'].fillna('No Fireplace')"
   ]
  },
  {
   "cell_type": "code",
   "execution_count": null,
   "metadata": {},
   "outputs": [],
   "source": [
    "# replace the missing values in the categoric variables representing the garage by `No Garage`\n",
    "for col in ['GarageType', 'GarageFinish', 'GarageCond', 'GarageQual']:\n",
    "    df_property[col].fillna('No Garage', inplace = True)"
   ]
  },
  {
   "cell_type": "code",
   "execution_count": null,
   "metadata": {},
   "outputs": [],
   "source": [
    "# according to the data definition, 'NA' denotes the absence of basement in the variabels 'BsmtQual', 'BsmtCond', 'BsmtExposure', 'BsmtFinType1','BsmtFinType2'\n",
    "# replace the missing values in the categoric variables representing the basement by `No Basement`\n",
    "for col in ['BsmtFinType2', 'BsmtExposure', 'BsmtQual','BsmtCond','BsmtFinType1']:\n",
    "    df_property[col].fillna('No Basement', inplace = True)"
   ]
  },
  {
   "cell_type": "code",
   "execution_count": null,
   "metadata": {},
   "outputs": [],
   "source": [
    "# according to the data definition, 'NA' denotes the absence of masonry veneer\n",
    "# replace the missing values in the categorical variable 'MasVnrType' with a value, 'None'\n",
    "df_property['MasVnrType'] = df_property['MasVnrType'].fillna('None')"
   ]
  },
  {
   "cell_type": "code",
   "execution_count": null,
   "metadata": {},
   "outputs": [],
   "source": [
    "# replace the missing values in the categorical variable 'Electrical' with its mode\n",
    "mode_electrical = df_property['Electrical'].mode()\n",
    "df_property['Electrical'].fillna(mode_electrical[0] , inplace = True)"
   ]
  },
  {
   "cell_type": "markdown",
   "metadata": {},
   "source": [
    "<a id='correlation'></a>\n",
    "### 4.1.6 Study correlation"
   ]
  },
  {
   "cell_type": "markdown",
   "metadata": {
    "colab_type": "text",
    "id": "sAagGX-keboT"
   },
   "source": [
    "<table align=\"left\">\n",
    "    <tr>\n",
    "        <td width=\"8%\">\n",
    "            <img src=\"todo.png\">\n",
    "        </td>\n",
    "        <td>\n",
    "            <div align=\"left\", style=\"font-size:120%\">\n",
    "                <font color=\"#21618C\">\n",
    "                    <b> To check the correlation between numerical variables, compute a correlation matrix and plot a heatmap for the correlation matrix\n",
    "                    </b>\n",
    "                </font>\n",
    "            </div>\n",
    "        </td>\n",
    "    </tr>\n",
    "</table>"
   ]
  },
  {
   "cell_type": "markdown",
   "metadata": {},
   "source": [
    "**Compute a correlation matrix**"
   ]
  },
  {
   "cell_type": "code",
   "execution_count": null,
   "metadata": {},
   "outputs": [],
   "source": [
    "# use the corr() function to generate the correlation matrix of the numeric variables\n",
    "corrmat = df_property.corr()\n",
    "\n",
    "# print the correlation matrix\n",
    "corrmat"
   ]
  },
  {
   "cell_type": "markdown",
   "metadata": {},
   "source": [
    "**2. Plot the heatmap for the diagonal correlation matrix**"
   ]
  },
  {
   "cell_type": "markdown",
   "metadata": {},
   "source": [
    "A correlation matrix is a symmetric matrix. Plot only the upper triangular entries using a heatmap."
   ]
  },
  {
   "cell_type": "code",
   "execution_count": null,
   "metadata": {
    "scrolled": false
   },
   "outputs": [],
   "source": [
    "# set the plot size\n",
    "plt.figure(figsize = (35,25))\n",
    "\n",
    "# plot the heat map\n",
    "# corr: give the correlation matrix\n",
    "# cmap: color code used for plotting\n",
    "# annot_kws: sets the font size of the annotation\n",
    "# annot: prints the correlation values in the chart\n",
    "# vmax: gives a maximum range of values for the chart\n",
    "# vmin: gives a minimum range of values for the chart\n",
    "sns.heatmap(corrmat, annot = True, vmax = 1.0, vmin = -1.0, cmap = 'bwr', annot_kws = {\"size\": 11.5})\n",
    "\n",
    "# set the size of x and y axes labels using 'fontsize'\n",
    "plt.xticks(fontsize = 15)\n",
    "plt.yticks(fontsize = 15)\n",
    "\n",
    "# display the plot\n",
    "plt.show()"
   ]
  },
  {
   "cell_type": "markdown",
   "metadata": {},
   "source": [
    "<table align=\"left\">\n",
    "    <tr>\n",
    "        <td width=\"8%\">\n",
    "            <img src=\"infer.png\">\n",
    "        </td>\n",
    "        <td>\n",
    "            <div align=\"left\", style=\"font-size:120%\">\n",
    "                <font color=\"#21618C\">\n",
    "                    <b>The diagonal represents the correlation of the variable with itself thus all the diagonal entries are '1'. The dark red squares represent the variables with strong positive correlation. <br><br>From the above plot we can see that the highest positive correlation (= 0.88) is between the variables 'GarageArea' and 'GarageCars'. Also there is strong positive correlation between the pairs (1StFlrSF, TotalBsmtSF) and (TotRmsAbvGrd, GrlivArea). There may be multicollinearity present.<br>\n",
    "                        No two variables have strong negative correlation in the dataset.\n",
    "                    </b>\n",
    "                </font>\n",
    "            </div>\n",
    "        </td>\n",
    "    </tr>\n",
    "</table>\n"
   ]
  },
  {
   "cell_type": "markdown",
   "metadata": {
    "colab_type": "text",
    "id": "pPwoQF_Hebod"
   },
   "source": [
    "<table align=\"left\">\n",
    "    <tr>\n",
    "        <td width=\"8%\">\n",
    "            <img src=\"quicktip.png\">\n",
    "        </td>\n",
    "        <td>\n",
    "            <div align=\"left\", style=\"font-size:120%\">\n",
    "                <font color=\"#21618C\">\n",
    "                    <b>Correlation does not imply causation. In other words, if two variables are correlated, it does not mean that one variable caused the other.</b>\n",
    "                </font>\n",
    "            </div>\n",
    "        </td>\n",
    "    </tr>\n",
    "</table>"
   ]
  },
  {
   "cell_type": "markdown",
   "metadata": {
    "colab_type": "text",
    "id": "OET43huSeboe"
   },
   "source": [
    "<table align=\"left\">\n",
    "    <tr>\n",
    "        <td width=\"8%\">\n",
    "            <img src=\"alsoreadicon.png\">\n",
    "        </td>\n",
    "        <td>\n",
    "            <div align=\"left\", style=\"font-size:120%\">\n",
    "                <font color=\"#21618C\">\n",
    "                    <b>Want to know more?</b> <br><br>\n",
    "                    <a href=\"https://bit.ly/2PBvA8T\">Why correlation does not imply causation </a>\n",
    "                </font>\n",
    "            </div>\n",
    "        </td>\n",
    "    </tr>\n",
    "</table>\n",
    "\n"
   ]
  },
  {
   "cell_type": "markdown",
   "metadata": {},
   "source": [
    "<a id='cat_num'></a>\n",
    "### 4.1.7 Analyze Relationships Between Target and Categorical Variables"
   ]
  },
  {
   "cell_type": "markdown",
   "metadata": {},
   "source": [
    "<table align=\"left\">\n",
    "    <tr>\n",
    "        <td width=\"8%\">\n",
    "            <img src=\"todo.png\">\n",
    "        </td>\n",
    "        <td>\n",
    "            <div align=\"left\", style=\"font-size:120%\">\n",
    "                <font color=\"#21618C\">\n",
    "                    <b>Plot the box-and-whisker plot for visualizing relationships between target and categorical variables.\n",
    "                    </b>\n",
    "                </font>\n",
    "            </div>\n",
    "        </td>\n",
    "    </tr>\n",
    "</table>"
   ]
  },
  {
   "cell_type": "code",
   "execution_count": null,
   "metadata": {
    "scrolled": false
   },
   "outputs": [],
   "source": [
    "# create an empty list to store all the categorical variables\n",
    "categorical=[]\n",
    "\n",
    "# check the data type of each variable\n",
    "for column in df_property:\n",
    "\n",
    "    # check if the variable has the categorical type \n",
    "    if is_string_dtype(df_property[column]):\n",
    "        \n",
    "        # append the categorical variables to the list 'categorical'\n",
    "        categorical.append(column)\n",
    "\n",
    "# plot the count plot for each categorical variable \n",
    "# 'figsize' sets the figure size\n",
    "fig, ax = plt.subplots(nrows = 14, ncols = 3, figsize = (40, 100))\n",
    "\n",
    "# plot the boxplot for each categoric and target variable\n",
    "for variable, subplot in zip(categorical, ax.flatten()):\n",
    "    sns.boxplot(x = variable, y = 'Property_Sale_Price', data = df_property, ax = subplot)\n",
    "    \n",
    "# display the plot\n",
    "plt.show()"
   ]
  },
  {
   "cell_type": "markdown",
   "metadata": {},
   "source": [
    "<table align=\"left\">\n",
    "    <tr>\n",
    "        <td width=\"8%\">\n",
    "            <img src=\"infer.png\">\n",
    "        </td>\n",
    "        <td>\n",
    "            <div align=\"left\", style=\"font-size:120%\">\n",
    "                <font color=\"#21618C\">\n",
    "                    <b>It can be seen that most of the categorical variables have an effect on the sale price of the property. The median sale price rises exponentially with respect to the rating of the overall quality of the material used.</b>\n",
    "                </font>\n",
    "            </div>\n",
    "        </td>\n",
    "    </tr>\n",
    "</table>\n"
   ]
  },
  {
   "cell_type": "markdown",
   "metadata": {},
   "source": [
    "<a id='Data_Preparation'></a>\n",
    "## 4.2 Data Preparation"
   ]
  },
  {
   "cell_type": "markdown",
   "metadata": {},
   "source": [
    "<a id='Normality'></a>\n",
    "### 4.2.1 Check for Normality"
   ]
  },
  {
   "cell_type": "markdown",
   "metadata": {},
   "source": [
    "**Plot a histogram and also perform the Shapiro-Wilk test**"
   ]
  },
  {
   "cell_type": "markdown",
   "metadata": {},
   "source": [
    "We use the function `hist()` from the matplotlib library to plot a histogram."
   ]
  },
  {
   "cell_type": "code",
   "execution_count": null,
   "metadata": {},
   "outputs": [],
   "source": [
    "# check the distribution of target variable\n",
    "df_property.Property_Sale_Price.hist(color = 'maroon')\n",
    "\n",
    "# add plot and axes labels\n",
    "# set text size using 'fontsize'\n",
    "plt.title('Distribution of Target Variable (Property_Sale_Price)', fontsize = 15)\n",
    "plt.xlabel('Property Sale Price', fontsize = 15)\n",
    "plt.ylabel('Frequency', fontsize = 15)\n",
    "\n",
    "# display the plot\n",
    "plt.show()"
   ]
  },
  {
   "cell_type": "markdown",
   "metadata": {},
   "source": [
    "<table align=\"left\">\n",
    "    <tr>\n",
    "        <td width=\"8%\">\n",
    "            <img src=\"infer.png\">\n",
    "        </td>\n",
    "        <td>\n",
    "            <div align=\"left\", style=\"font-size:120%\">\n",
    "                <font color=\"#21618C\">\n",
    "                    <b>We can see that the variable 'Property_Sale_Price' is positively skewed and thus we can say that it is not normally distributed.</b>\n",
    "                </font>\n",
    "            </div>\n",
    "        </td>\n",
    "    </tr>\n",
    "</table>\n",
    "\n",
    "\n"
   ]
  },
  {
   "cell_type": "markdown",
   "metadata": {},
   "source": [
    "<table align=\"left\">\n",
    "    <tr>\n",
    "        <td width=\"8%\">\n",
    "            <img src=\"quicktip.png\">\n",
    "        </td>\n",
    "        <td>\n",
    "            <div align=\"left\", style=\"font-size:120%\">\n",
    "                <font color=\"#21618C\">\n",
    "                    <b>We should not only make conclusions through visual representations or only using a statistical test but perform multiple ways to get the best insights.\n",
    "</b>\n",
    "                </font>\n",
    "            </div>\n",
    "        </td>\n",
    "    </tr>\n",
    "</table>"
   ]
  },
  {
   "cell_type": "markdown",
   "metadata": {},
   "source": [
    "Let us perform from Shapiro-Wilk test to check the normality of the target variable."
   ]
  },
  {
   "cell_type": "markdown",
   "metadata": {},
   "source": [
    "The null and alternate hypothesis of Shapiro-Wilk test is as follows: <br>\n",
    "\n",
    "<p style='text-indent:25em'> <strong> H<sub>o</sub>: The data is normally distributed</strong> </p>\n",
    "<p style='text-indent:25em'> <strong> H<sub>1</sub>: The data is not normally distributed</strong> </p>"
   ]
  },
  {
   "cell_type": "code",
   "execution_count": null,
   "metadata": {},
   "outputs": [],
   "source": [
    "# shapiro() returns the the test statistics along with the p-value of the test\n",
    "stat, p = shapiro(df_property.Property_Sale_Price)\n",
    "\n",
    "# print the numeric outputs of the Shapiro-Wilk test upto 3 decimal places\n",
    "print('Statistics=%.3f, p-value=%.3f' % (stat, p))\n",
    "\n",
    "# set the level of significance (alpha) to 0.05\n",
    "alpha = 0.05\n",
    "\n",
    "# if the p-value is less than alpha print we reject alpha\n",
    "# if the p-value is greater than alpha print we accept alpha \n",
    "if p > alpha:\n",
    "    print('The data is normally distributed (fail to reject H0)')\n",
    "else:\n",
    "    print('The data is not normally distributed (reject H0)')"
   ]
  },
  {
   "cell_type": "markdown",
   "metadata": {},
   "source": [
    "<table align=\"left\">\n",
    "    <tr>\n",
    "        <td width=\"8%\">\n",
    "            <img src=\"infer.png\">\n",
    "        </td>\n",
    "        <td>\n",
    "            <div align=\"left\", style=\"font-size:120%\">\n",
    "                <font color=\"#21618C\">\n",
    "                    <b>We can see that the p-value is less than 0.05 and thus we reject the null hypothesis. It can be concluded that the data is not normally distributed.<br><br>\n",
    "                        We need to log transform the variable 'Property_Sale_Price' in order to reduce the skewness.</b>\n",
    "                </font>\n",
    "            </div>\n",
    "        </td>\n",
    "    </tr>\n",
    "</table>\n"
   ]
  },
  {
   "cell_type": "markdown",
   "metadata": {},
   "source": [
    "<table align=\"left\">\n",
    "    <tr>\n",
    "        <td width=\"8%\">\n",
    "            <img src=\"quicktip.png\">\n",
    "        </td>\n",
    "        <td>\n",
    "            <div align=\"left\", style=\"font-size:120%\">\n",
    "                <font color=\"#21618C\">\n",
    "                    <b>Shaprio Wilk Test does not work if the number of observations are more than 5000. However Shapiro Wilk test is more robust than other tests. In case where the observations are more than 5000, other tests like Anderson Darling test or Jarque Bera test may also be used.</b>\n",
    "                </font>\n",
    "            </div>\n",
    "        </td>\n",
    "    </tr>\n",
    "</table>"
   ]
  },
  {
   "cell_type": "markdown",
   "metadata": {},
   "source": [
    "**If the data is not normally distributed, use log transformation to reduce the skewness and get a near normally distributed data**\n",
    "\n",
    "The log transformation can be used to reduce the skewbess. To log transform the 'Property_Sale_Price' variable we use the function `np.log()`."
   ]
  },
  {
   "cell_type": "code",
   "execution_count": null,
   "metadata": {
    "scrolled": true
   },
   "outputs": [],
   "source": [
    "# log transformation using np.log()\n",
    "df_property['log_Property_Sale_Price'] = np.log(df_property['Property_Sale_Price'])\n",
    "\n",
    "# display the top 5 rows of the data\n",
    "df_property.head()"
   ]
  },
  {
   "cell_type": "markdown",
   "metadata": {},
   "source": [
    "**Recheck for normality by plotting histogram and performing Shapiro-Wilk test**\n",
    "\n",
    "Let us first plot a histogram of `log_Property_Sale_Price`."
   ]
  },
  {
   "cell_type": "code",
   "execution_count": null,
   "metadata": {},
   "outputs": [],
   "source": [
    "# recheck for normality \n",
    "# plot the histogram using hist\n",
    "df_property.log_Property_Sale_Price.hist(color = 'maroon')\n",
    "\n",
    "# add plot and axes labels\n",
    "# set text size using 'fontsize'\n",
    "plt.title('Distribution of Log-transformed Target Variable (log_Property_Sale_Price)', fontsize = 15)\n",
    "plt.xlabel('Sale Price (log-transformed)', fontsize = 15)\n",
    "plt.ylabel('Frequency', fontsize = 15)\n",
    "\n",
    "# display the plot\n",
    "plt.show()"
   ]
  },
  {
   "cell_type": "markdown",
   "metadata": {},
   "source": [
    "<table align=\"left\">\n",
    "    <tr>\n",
    "        <td width=\"8%\">\n",
    "            <img src=\"infer.png\">\n",
    "        </td>\n",
    "        <td>\n",
    "            <div align=\"left\", style=\"font-size:120%\">\n",
    "                <font color=\"#21618C\">\n",
    "                    <b>It can be seen that the variable log_Property_Sale_Price is near normally distributed. Lets confirm it again by using the Shapiro-Wilk test.</b>\n",
    "                </font>\n",
    "            </div>\n",
    "        </td>\n",
    "    </tr>\n",
    "</table>"
   ]
  },
  {
   "cell_type": "markdown",
   "metadata": {},
   "source": [
    "Let us perform Shapiro-Wilk test."
   ]
  },
  {
   "cell_type": "code",
   "execution_count": null,
   "metadata": {},
   "outputs": [],
   "source": [
    "# shapiro() returns the the test statistics along with the p-value of the test\n",
    "stat, p = shapiro(df_property['log_Property_Sale_Price'])\n",
    "\n",
    "# print the numeric outputs of the Shapiro-Wilk test upto 3 decimal places\n",
    "print('Statistics=%.3f, p-value=%.3f' % (stat, p))\n",
    "\n",
    "# set the level of significance (alpha) to 0.05\n",
    "alpha = 0.05\n",
    "\n",
    "# if the p-value is less than alpha print we reject alpha\n",
    "# if the p-value is greater than alpha print we accept alpha \n",
    "if p > alpha:\n",
    "    print('The data is normally distributed (fail to reject H0)')\n",
    "else:\n",
    "    print('The data is not normally distributed (reject H0)')"
   ]
  },
  {
   "cell_type": "code",
   "execution_count": null,
   "metadata": {},
   "outputs": [],
   "source": [
    "# find the skewness of the variable log_Property_Sale_Price\n",
    "df_property['log_Property_Sale_Price'].skew()"
   ]
  },
  {
   "cell_type": "markdown",
   "metadata": {},
   "source": [
    "<table align=\"left\">\n",
    "    <tr>\n",
    "        <td width=\"8%\">\n",
    "            <img src=\"infer.png\">\n",
    "        </td>\n",
    "        <td>\n",
    "            <div align=\"left\", style=\"font-size:120%\">\n",
    "                <font color=\"#21618C\">\n",
    "                    <b>It can be visually seen that the data has near-normal distribution, but Shapiro-Wilk test does not support the claim.\n",
    "<br>                    \n",
    "Note that in reality it might be very tough for your data to adhere to all assumptions your algorithm needs.\n",
    "</b>\n",
    "                </font>\n",
    "            </div>\n",
    "        </td>\n",
    "    </tr>\n",
    "</table>"
   ]
  },
  {
   "cell_type": "markdown",
   "metadata": {},
   "source": [
    "<a id='dummy'></a>\n",
    "### 4.2.2 Dummy Encode the Categorical Variables"
   ]
  },
  {
   "cell_type": "markdown",
   "metadata": {},
   "source": [
    "<table align=\"left\">\n",
    "    <tr>\n",
    "        <td width=\"8%\">\n",
    "            <img src=\"todo.png\">\n",
    "        </td>\n",
    "        <td>\n",
    "            <div align=\"left\", style=\"font-size:120%\">\n",
    "                <font color=\"#21618C\">\n",
    "                    <b> We need to perform dummy encoding on our categorical variables before we proceed; since the method of OLS works only on the numeric data.</b>\n",
    "                </font>\n",
    "            </div>\n",
    "        </td>\n",
    "    </tr>\n",
    "</table>"
   ]
  },
  {
   "cell_type": "markdown",
   "metadata": {},
   "source": [
    "**Filter numerical and categorical variables**"
   ]
  },
  {
   "cell_type": "code",
   "execution_count": null,
   "metadata": {},
   "outputs": [],
   "source": [
    "# filter out the categorical variables and consider only the numeric variables using (include=np.number)\n",
    "df_numeric_features = df_property.select_dtypes(include=np.number)\n",
    "\n",
    "# display the numeric features\n",
    "df_numeric_features.columns"
   ]
  },
  {
   "cell_type": "code",
   "execution_count": null,
   "metadata": {},
   "outputs": [],
   "source": [
    "# filter out the numerical variables and consider only the categorical variables using (include=object)\n",
    "df_categoric_features = df_property.select_dtypes(include = object)\n",
    "\n",
    "# display categorical features\n",
    "df_categoric_features.columns"
   ]
  },
  {
   "cell_type": "markdown",
   "metadata": {},
   "source": [
    "**Dummy encode the catergorical variables**"
   ]
  },
  {
   "cell_type": "code",
   "execution_count": null,
   "metadata": {},
   "outputs": [],
   "source": [
    "# to create the dummy variables  we use 'get_dummies()' from pandas \n",
    "# to create (n-1) dummy variables we use 'drop_first = True' \n",
    "dummy_encoded_variables = pd.get_dummies(df_categoric_features, drop_first = True)"
   ]
  },
  {
   "cell_type": "markdown",
   "metadata": {},
   "source": [
    "**Concatenate numerical and dummy encoded categorical variables**"
   ]
  },
  {
   "cell_type": "code",
   "execution_count": null,
   "metadata": {},
   "outputs": [],
   "source": [
    "# concatenate the numerical and dummy encoded categorical variables column-wise\n",
    "df_property_dummy = pd.concat([df_numeric_features, dummy_encoded_variables], axis=1)\n",
    "\n",
    "# display data with dummy variables\n",
    "df_property_dummy.head()"
   ]
  },
  {
   "cell_type": "code",
   "execution_count": null,
   "metadata": {},
   "outputs": [],
   "source": [
    "# check the dimensions of the dataframe\n",
    "df_property_dummy.shape"
   ]
  },
  {
   "cell_type": "markdown",
   "metadata": {},
   "source": [
    "<table align=\"left\">\n",
    "    <tr>\n",
    "        <td width=\"8%\">\n",
    "            <img src=\"quicktip.png\">\n",
    "        </td>\n",
    "        <td>\n",
    "            <div align=\"left\", style=\"font-size:120%\">\n",
    "                <font color=\"#21618C\">\n",
    "                    <b>There are various forms of encoding like n-1 dummy encoding, one hot encoding, label encoding, frequency encoding.</b>\n",
    "                </font>\n",
    "            </div>\n",
    "        </td>\n",
    "    </tr>\n",
    "</table>\n"
   ]
  },
  {
   "cell_type": "markdown",
   "metadata": {},
   "source": [
    "<table align=\"left\">\n",
    "    <tr>\n",
    "        <td width=\"8%\">\n",
    "            <img src=\"alsoreadicon.png\">\n",
    "        </td>\n",
    "        <td>\n",
    "            <div align=\"left\", style=\"font-size:120%\">\n",
    "                <font color=\"#21618C\">\n",
    "                    <b>Want to know more?</b> <br><br>\n",
    "                    <a href=\"https://bit.ly/36nZQKg\">1. FAQ: What is Dummy Coding? <br>\n",
    "                    <a href=\"https://bit.ly/2q9Omt9\">2. Encoding Categorical Features\n",
    "                </font>\n",
    "            </div>\n",
    "        </td>\n",
    "    </tr>\n",
    "</table>"
   ]
  },
  {
   "cell_type": "markdown",
   "metadata": {},
   "source": [
    "<table align=\"left\">\n",
    "    <tr>\n",
    "        <td width=\"8%\">\n",
    "            <img src=\"todo.png\">\n",
    "        </td>\n",
    "        <td>\n",
    "            <div align=\"left\", style=\"font-size:120%\">\n",
    "                <font color=\"#21618C\">\n",
    "                    <b>We will now train models by fitting a linear regression model using the method of ordinary least square(OLS). </b>\n",
    "                </font>\n",
    "            </div>\n",
    "        </td>\n",
    "    </tr>\n",
    "</table>"
   ]
  },
  {
   "cell_type": "markdown",
   "metadata": {},
   "source": [
    "<a id='LinearRegression'></a>\n",
    "# 5. Linear Regression (OLS)"
   ]
  },
  {
   "cell_type": "markdown",
   "metadata": {},
   "source": [
    "<a id='withLog'></a>\n",
    "## 5.1 Multiple Linear Regression Full Model with Log Transformed Dependent Variable (OLS)"
   ]
  },
  {
   "cell_type": "markdown",
   "metadata": {},
   "source": [
    "#### Follow the steps in order to build the OLS model:"
   ]
  },
  {
   "cell_type": "markdown",
   "metadata": {},
   "source": [
    "**1. Split the data into training and test sets**"
   ]
  },
  {
   "cell_type": "markdown",
   "metadata": {},
   "source": [
    "As the OLS function does not include the intercept term by default. Thus, we add the intercept column to the dataset."
   ]
  },
  {
   "cell_type": "code",
   "execution_count": null,
   "metadata": {},
   "outputs": [],
   "source": [
    "# add the intercept column using 'add_constant()'\n",
    "df_property_dummy = sm.add_constant(df_property_dummy)\n",
    "\n",
    "# separate the independent and dependent variables\n",
    "# drop(): drops the specified columns\n",
    "X = df_property_dummy.drop(['Property_Sale_Price','log_Property_Sale_Price'], axis = 1)\n",
    "\n",
    "# extract the target variable from the data set\n",
    "y = df_property_dummy[['Property_Sale_Price','log_Property_Sale_Price']]\n",
    "\n",
    "# split data into train data and test data \n",
    "# what proportion of data should be included in test data is passed using 'test_size'\n",
    "# set 'random_state' to get the same data each time the code is executed \n",
    "X_train, X_test, y_train, y_test = train_test_split(X, y, test_size = 0.3, random_state = 1)\n",
    "\n",
    "# check the dimensions of the train & test subset for \n",
    "# print dimension of predictors train set\n",
    "print(\"The shape of X_train is:\",X_train.shape)\n",
    "\n",
    "# print dimension of predictors test set\n",
    "print(\"The shape of X_test is:\",X_test.shape)\n",
    "\n",
    "# print dimension of target train set\n",
    "print(\"The shape of y_train is:\",y_train.shape)\n",
    "\n",
    "# print dimension of target test set\n",
    "print(\"The shape of y_test is:\",y_test.shape)"
   ]
  },
  {
   "cell_type": "markdown",
   "metadata": {},
   "source": [
    "**2. Build model using sm.OLS().fit()**"
   ]
  },
  {
   "cell_type": "code",
   "execution_count": null,
   "metadata": {
    "scrolled": true
   },
   "outputs": [],
   "source": [
    "# build a full model using OLS()\n",
    "# consider the log of sales price as the target variable\n",
    "# use fit() to fit the model on train data\n",
    "linreg_logmodel_full = sm.OLS(y_train['log_Property_Sale_Price'], X_train).fit()\n",
    "\n",
    "# print the summary output\n",
    "print(linreg_logmodel_full.summary())"
   ]
  },
  {
   "cell_type": "markdown",
   "metadata": {},
   "source": [
    "<table align=\"left\">\n",
    "    <tr>\n",
    "        <td width=\"8%\">\n",
    "            <img src=\"infer.png\">\n",
    "        </td>\n",
    "        <td>\n",
    "            <div align=\"left\", style=\"font-size:120%\">\n",
    "                <font color=\"#21618C\">\n",
    "                    <b>This model explains around 95% of the variation in dependent variable log_Property_Sale_Price. \n",
    "                        <br>The Condition Number 9.55e+18 suggests that there is severe multicollinearity in the data. \n",
    "                        <br>The Durbin-Watson test statistics is 1.934 i.e. close to 2.0 and thus it indicates that there is no autocorrelation. </b>\n",
    "                </font>\n",
    "            </div>\n",
    "        </td>\n",
    "    </tr>\n",
    "</table>\n"
   ]
  },
  {
   "cell_type": "markdown",
   "metadata": {},
   "source": [
    "<table align=\"left\">\n",
    "    <tr>\n",
    "        <td width=\"8%\">\n",
    "            <img src=\"quicktip.png\">\n",
    "        </td>\n",
    "        <td>\n",
    "            <div align=\"left\", style=\"font-size:120%\">\n",
    "                <font color=\"#21618C\">\n",
    "                    <b> Condition Number : Multicollinearity can be checkked by computing the condition number(CN). If condition number is between 100 and 1000, there is moderate multicollinearity, if condition number is less than 100, there is no multicollinearity and if condition number is greater 1000 there is severe multicollinearity in the data. <br><br>\n",
    "                        Durbin-Watson : The Durbin-Watson statistic will always have a value between 0 and 4. A value of 2.0 means that there is no autocorrelation detected in the sample. Values from 0 to less than 2 indicate positive autocorrelation and values from from 2 to 4 indicate negative autocorrelation.</b>     \n",
    "                </font>\n",
    "            </div>\n",
    "        </td>\n",
    "    </tr>\n",
    "</table>"
   ]
  },
  {
   "cell_type": "markdown",
   "metadata": {},
   "source": [
    "**3. Predict the values using test set**"
   ]
  },
  {
   "cell_type": "code",
   "execution_count": null,
   "metadata": {},
   "outputs": [],
   "source": [
    "# predict the 'log_Property_Sale_Price' using predict()\n",
    "linreg_logmodel_full_predictions = linreg_logmodel_full.predict(X_test)"
   ]
  },
  {
   "cell_type": "markdown",
   "metadata": {},
   "source": [
    "<table align=\"left\">\n",
    "    <tr>\n",
    "        <td width=\"8%\">\n",
    "            <img src=\"todo.png\">\n",
    "        </td>\n",
    "        <td>\n",
    "            <div align=\"left\", style=\"font-size:120%\">\n",
    "                <font color=\"#21618C\">\n",
    "                    <b>Note that the predicted values are log transformed Property_Sale_Price. In order to get Property_Sale_Price values, we take the antilog of these predicted values by using the function np.exp()</b>\n",
    "                </font>\n",
    "            </div>\n",
    "        </td>\n",
    "    </tr>\n",
    "</table>\n"
   ]
  },
  {
   "cell_type": "code",
   "execution_count": null,
   "metadata": {},
   "outputs": [],
   "source": [
    "# take the exponential of predictions using np.exp()\n",
    "predicted_Property_Sale_Price = np.exp(linreg_logmodel_full_predictions)\n",
    "\n",
    "# extract the 'Property_Sale_Price' values from the test data\n",
    "actual_Property_Sale_Price = y_test['Property_Sale_Price']"
   ]
  },
  {
   "cell_type": "markdown",
   "metadata": {},
   "source": [
    "**4. Compute accuracy measures**\n",
    "\n",
    "Now we calculate accuray measures Root-mean-square-error (RMSE), R-squared and Adjusted R-squared."
   ]
  },
  {
   "cell_type": "code",
   "execution_count": null,
   "metadata": {},
   "outputs": [],
   "source": [
    "# calculate rmse using rmse()\n",
    "linreg_logmodel_full_rmse = rmse(actual_Property_Sale_Price, predicted_Property_Sale_Price)\n",
    "\n",
    "# calculate R-squared using rsquared\n",
    "linreg_logmodel_full_rsquared = linreg_logmodel_full.rsquared\n",
    "\n",
    "# calculate Adjusted R-Squared using rsquared_adj\n",
    "linreg_logmodel_full_rsquared_adj = linreg_logmodel_full.rsquared_adj "
   ]
  },
  {
   "cell_type": "markdown",
   "metadata": {},
   "source": [
    "**5. Tabulate the results**"
   ]
  },
  {
   "cell_type": "code",
   "execution_count": null,
   "metadata": {
    "scrolled": true
   },
   "outputs": [],
   "source": [
    "# create the result table for all accuracy scores\n",
    "# accuracy measures considered for model comparision are RMSE, R-squared value and Adjusted R-squared value\n",
    "# create a list of column names\n",
    "cols = ['Model', 'RMSE', 'R-Squared', 'Adj. R-Squared']\n",
    "\n",
    "# create a empty dataframe of the colums\n",
    "# columns: specifies the columns to be selected\n",
    "result_tabulation = pd.DataFrame(columns = cols)\n",
    "\n",
    "# compile the required information\n",
    "linreg_logmodel_full_metrics = pd.Series({'Model': \"Linreg full model with log of target variable \",\n",
    "                     'RMSE':linreg_logmodel_full_rmse,\n",
    "                     'R-Squared': linreg_logmodel_full_rsquared,\n",
    "                     'Adj. R-Squared': linreg_logmodel_full_rsquared_adj     \n",
    "                   })\n",
    "\n",
    "# append our result table using append()\n",
    "# ignore_index=True: does not use the index labels\n",
    "# python can only append a Series if ignore_index=True or if the Series has a name\n",
    "result_tabulation = result_tabulation.append(linreg_logmodel_full_metrics, ignore_index = True)\n",
    "\n",
    "# print the result table\n",
    "result_tabulation"
   ]
  },
  {
   "cell_type": "markdown",
   "metadata": {},
   "source": [
    "<table align=\"left\">\n",
    "    <tr>\n",
    "        <td width=\"8%\">\n",
    "            <img src=\"todo.png\">\n",
    "        </td>\n",
    "        <td>\n",
    "            <div align=\"left\", style=\"font-size:120%\">\n",
    "                <font color=\"#21618C\">\n",
    "                    <b>We will also build a linear regression model without performing log transformation on the target variable.\n",
    "</b>\n",
    "                </font>\n",
    "            </div>\n",
    "        </td>\n",
    "    </tr>\n",
    "</table>"
   ]
  },
  {
   "cell_type": "markdown",
   "metadata": {},
   "source": [
    "<a id='withoutLog'></a>\n",
    "## 5.2 Multiple Linear Regression Full Model without Log Transformed Target Variable (OLS)"
   ]
  },
  {
   "cell_type": "markdown",
   "metadata": {},
   "source": [
    "In this section we build a full model with linear regression using OLS (Ordinary Least Square) technique. By full model we indicate that we consider all the independent variables that are present in the dataset.\n",
    "\n",
    "In this case, we do not consider any kind of transformation on the dependent variable, we use the 'Property_Sale_Price' variable as it is."
   ]
  },
  {
   "cell_type": "markdown",
   "metadata": {},
   "source": [
    "####  We have already done train and test split while building the previous model."
   ]
  },
  {
   "cell_type": "markdown",
   "metadata": {},
   "source": [
    "**1. Build model using sm.OLS().fit()**"
   ]
  },
  {
   "cell_type": "code",
   "execution_count": null,
   "metadata": {},
   "outputs": [],
   "source": [
    "# build a OLS model using function OLS()\n",
    "# Property_Sale_Price is our target variable\n",
    "# use fit() to fit the model on train data\n",
    "linreg_nolog_model = sm.OLS(y_train['Property_Sale_Price'], X_train).fit()\n",
    "\n",
    "# print the summary output\n",
    "print(linreg_nolog_model.summary())"
   ]
  },
  {
   "cell_type": "markdown",
   "metadata": {},
   "source": [
    "<table align=\"left\">\n",
    "    <tr>\n",
    "        <td width=\"8%\">\n",
    "            <img src=\"infer.png\">\n",
    "        </td>\n",
    "        <td>\n",
    "            <div align=\"left\", style=\"font-size:120%\">\n",
    "                <font color=\"#21618C\">\n",
    "                    <b>This model explains around 94% of the variation in dependent variable Property_Sale_Price. \n",
    "                        <br>The Durbin-Watson test statistics is 1.973 and indicates that there is no autocorrelation. \n",
    "                        <br>The Condition Number 9.55e+18 suggests that there is severe multicollinearity in the data.</b>\n",
    "                </font>\n",
    "            </div>\n",
    "        </td>\n",
    "    </tr>\n",
    "</table>\n"
   ]
  },
  {
   "cell_type": "markdown",
   "metadata": {},
   "source": [
    "**2. Predict the values using test set**"
   ]
  },
  {
   "cell_type": "code",
   "execution_count": null,
   "metadata": {},
   "outputs": [],
   "source": [
    "# predict the 'Property_Sale_Price' using predict()\n",
    "linreg_nolog_model_predictions = linreg_nolog_model.predict(X_test)"
   ]
  },
  {
   "cell_type": "markdown",
   "metadata": {},
   "source": [
    "**3. Compute accuracy measures**\n",
    "\n",
    "Now we calculate accuray measures Root-mean-square-error (RMSE), R-squared and Adjusted R-squared."
   ]
  },
  {
   "cell_type": "code",
   "execution_count": null,
   "metadata": {},
   "outputs": [],
   "source": [
    "# calculate rmse using rmse()\n",
    "linreg_nolog_model_rmse = rmse(actual_Property_Sale_Price, linreg_nolog_model_predictions)\n",
    "\n",
    "# calculate R-squared using rsquared\n",
    "linreg_nolog_model_rsquared = linreg_nolog_model.rsquared\n",
    "\n",
    "# calculate Adjusted R-Squared using rsquared_adj\n",
    "linreg_nolog_model_rsquared_adj = linreg_nolog_model.rsquared_adj "
   ]
  },
  {
   "cell_type": "markdown",
   "metadata": {},
   "source": [
    "**4. Tabulate the results**"
   ]
  },
  {
   "cell_type": "code",
   "execution_count": null,
   "metadata": {},
   "outputs": [],
   "source": [
    "# append the result table \n",
    "# compile the required information\n",
    "linreg_nolog_model_metrics = pd.Series({'Model': \"Linreg full model without log of target variable \",\n",
    "                                                 'RMSE':linreg_nolog_model_rmse,\n",
    "                                                 'R-Squared': linreg_nolog_model_rsquared,\n",
    "                                                 'Adj. R-Squared': linreg_nolog_model_rsquared_adj})\n",
    "\n",
    "# append our result table using append()\n",
    "# ignore_index=True: does not use the index labels\n",
    "# python can only append a Series if ignore_index=True or if the Series has a name\n",
    "result_tabulation = result_tabulation.append(linreg_nolog_model_metrics, ignore_index = True)\n",
    "\n",
    "# print the result table\n",
    "result_tabulation"
   ]
  },
  {
   "cell_type": "markdown",
   "metadata": {},
   "source": [
    "<table align=\"left\">\n",
    "    <tr>\n",
    "        <td width=\"8%\">\n",
    "            <img src=\"infer.png\">\n",
    "        </td>\n",
    "        <td>\n",
    "            <div align=\"left\", style=\"font-size:120%\">\n",
    "                <font color=\"#21618C\">\n",
    "                    <b>If we compare the results in the table we can see that the linreg model withh log of target variable is performing slightly better than the model without log of target variable. Thus we will continue with the target variable 'log_Property_Sale_Price'.\n",
    "</b>\n",
    "                </font>\n",
    "            </div>\n",
    "        </td>\n",
    "    </tr>\n",
    "</table>"
   ]
  },
  {
   "cell_type": "markdown",
   "metadata": {},
   "source": [
    "<table align=\"left\">\n",
    "    <tr>\n",
    "        <td width=\"8%\">\n",
    "            <img src=\"todo.png\">\n",
    "        </td>\n",
    "        <td>\n",
    "            <div align=\"left\", style=\"font-size:120%\">\n",
    "                <font color=\"#21618C\">\n",
    "                    <b>Let us perform feature engineering and take a look at building a linear regression full model by adding new features to the dataset. \n",
    "</b>\n",
    "                </font>\n",
    "            </div>\n",
    "        </td>\n",
    "    </tr>\n",
    "</table>"
   ]
  },
  {
   "cell_type": "markdown",
   "metadata": {},
   "source": [
    "<a id='Feature_Engineering'></a>\n",
    "## 5.3 Feature Engineering"
   ]
  },
  {
   "cell_type": "markdown",
   "metadata": {},
   "source": [
    "It is the process of creating new features using domain knowledge of the data that provides more insight into the data. Let us create a few features from the existing dataset and build a regression model on the newly created data."
   ]
  },
  {
   "cell_type": "markdown",
   "metadata": {},
   "source": [
    "<a id='feature1'></a>\n",
    "### 5.3.1 Multiple Linear Regression (Using New Feature) - 1"
   ]
  },
  {
   "cell_type": "markdown",
   "metadata": {},
   "source": [
    "#### In order to build the model, we do the following:"
   ]
  },
  {
   "cell_type": "markdown",
   "metadata": {},
   "source": [
    "**1. Create a new feature by using variables 'TotalBsmtSF', '1stFlrSF', '2ndFlrSF', and 'GrLivArea'.**"
   ]
  },
  {
   "cell_type": "markdown",
   "metadata": {},
   "source": [
    "**Calculate the complete area of the house.**<br>\n",
    "Create a new variable `TotalSF` representing the total square feet area of the house by adding the area of the first floor, second floor, ground level and basement of the house."
   ]
  },
  {
   "cell_type": "code",
   "execution_count": null,
   "metadata": {},
   "outputs": [],
   "source": [
    "# create a new variable 'TotalSF' using the variables 'TotalBsmtSF', '1stFlrSF', '2ndFlrSF', and 'GrLivArea'\n",
    "df_property['TotalSF'] = df_property['TotalBsmtSF'] + df_property['1stFlrSF'] + df_property['2ndFlrSF'] + df_property['GrLivArea']\n",
    "\n",
    "# as we have created a new variable using the variables 'TotalBsmtSF', '1stFlrSF', '2ndFlrSF' and 'GrLivArea', we will remove them\n",
    "# use 'drop()' to remove the variables\n",
    "df_property = df_property.drop([\"TotalBsmtSF\", \"1stFlrSF\", \"2ndFlrSF\", \"GrLivArea\"], axis=1)"
   ]
  },
  {
   "cell_type": "code",
   "execution_count": null,
   "metadata": {},
   "outputs": [],
   "source": [
    "# filter out the categorical variables and consider only the numerical variables using (include=np.number)\n",
    "df_numeric_features = df_property.select_dtypes(include=np.number)\n",
    "\n",
    "# filter out the numerical variables and consider only the categorical variables using (include=object)\n",
    "df_categoric_features = df_property.select_dtypes(include = object)"
   ]
  },
  {
   "cell_type": "markdown",
   "metadata": {},
   "source": [
    "**Dummy encode the catergorical variables**"
   ]
  },
  {
   "cell_type": "code",
   "execution_count": null,
   "metadata": {},
   "outputs": [],
   "source": [
    "# use 'get_dummies()' from pandas to create dummy variables\n",
    "# use 'drop_first = True' to create (n-1) dummy variables\n",
    "dummy_encoded_variables = pd.get_dummies(df_categoric_features, drop_first = True)"
   ]
  },
  {
   "cell_type": "markdown",
   "metadata": {},
   "source": [
    "**Concatenate numerical and dummy encoded categorical variables**"
   ]
  },
  {
   "cell_type": "code",
   "execution_count": null,
   "metadata": {
    "scrolled": true
   },
   "outputs": [],
   "source": [
    "# concatenate the numerical and dummy encoded categorical variables column-wise\n",
    "df_dummy = pd.concat([df_numeric_features, dummy_encoded_variables], axis=1)\n",
    "\n",
    "# display data with dummy variables\n",
    "df_dummy.head()"
   ]
  },
  {
   "cell_type": "markdown",
   "metadata": {},
   "source": [
    "**2. Split the data into train and test sets**"
   ]
  },
  {
   "cell_type": "code",
   "execution_count": null,
   "metadata": {},
   "outputs": [],
   "source": [
    "# add the intercept column using 'add_constant()'\n",
    "df_dummy = sm.add_constant(df_dummy)\n",
    "\n",
    "# separate the independent and dependent variables\n",
    "# drop(): drops the specified columns\n",
    "# axis=1: specifies that the column is to be dropped\n",
    "X = df_dummy.drop(['Property_Sale_Price','log_Property_Sale_Price'], axis = 1)\n",
    "\n",
    "# extract the target variable from the data set\n",
    "y = df_dummy[['Property_Sale_Price','log_Property_Sale_Price']]\n",
    "\n",
    "# split data into train data and test data \n",
    "# what proportion of data should be included in test data is specified using 'test_size'\n",
    "# set 'random_state' to get the same data each time the code is executed \n",
    "X_train, X_test, y_train, y_test = train_test_split(X, y, test_size = 0.3, random_state = 1)\n",
    "\n",
    "# check the dimensions of the train & test subset for \n",
    "# print dimension of predictors train set\n",
    "print(\"The shape of X_train is:\",X_train.shape)\n",
    "\n",
    "# print dimension of predictors test set\n",
    "print(\"The shape of X_test is:\",X_test.shape)\n",
    "\n",
    "# print dimension of target train set\n",
    "print(\"The shape of y_train is:\",y_train.shape)\n",
    "\n",
    "# print dimension of target test set\n",
    "print(\"The shape of y_test is:\",y_test.shape)"
   ]
  },
  {
   "cell_type": "markdown",
   "metadata": {},
   "source": [
    "**3. Build model using sm.OLS().fit()**"
   ]
  },
  {
   "cell_type": "code",
   "execution_count": null,
   "metadata": {},
   "outputs": [],
   "source": [
    "# build a full model using OLS()\n",
    "# consider the target variable 'log_Property_Sale_Price'\n",
    "# use fit() to fit the model on train data\n",
    "linreg_feature_1_model = sm.OLS(y_train['log_Property_Sale_Price'], X_train).fit()\n",
    "\n",
    "# print the summary output\n",
    "print(linreg_feature_1_model.summary())"
   ]
  },
  {
   "cell_type": "markdown",
   "metadata": {},
   "source": [
    "<table align=\"left\">\n",
    "    <tr>\n",
    "        <td width=\"8%\">\n",
    "            <img src=\"infer.png\">\n",
    "        </td>\n",
    "        <td>\n",
    "            <div align=\"left\", style=\"font-size:120%\">\n",
    "                <font color=\"#21618C\">\n",
    "                    <b>This model explains around 94% of the variation in dependent variable log_Property_Sale_Price. The Condition Number 8.29e+18 suggests that there is severe multicollinearity in the data. The Durbin-Watson test statistics is 1.885 i.e. close to 2.0 and thus it indicates that there is no autocorrelation.</b>\n",
    "                </font>\n",
    "            </div>\n",
    "        </td>\n",
    "    </tr>\n",
    "</table>\n"
   ]
  },
  {
   "cell_type": "markdown",
   "metadata": {},
   "source": [
    "**4. Predict the values using test set**"
   ]
  },
  {
   "cell_type": "code",
   "execution_count": null,
   "metadata": {},
   "outputs": [],
   "source": [
    "# predict the 'log_Property_Sale_Price' using predict()\n",
    "linreg_feature_1_model_predictions = linreg_feature_1_model.predict(X_test)"
   ]
  },
  {
   "cell_type": "markdown",
   "metadata": {},
   "source": [
    "<table align=\"left\">\n",
    "    <tr>\n",
    "        <td width=\"8%\">\n",
    "            <img src=\"todo.png\">\n",
    "        </td>\n",
    "        <td>\n",
    "            <div align=\"left\", style=\"font-size:120%\">\n",
    "                <font color=\"#21618C\">\n",
    "                    <b>Note that the predicted values are log transformed Property_Sale_Price. In order to get Property_Sale_Price values, we take the antilog of these predicted values by using the function np.exp()</b>\n",
    "                </font>\n",
    "            </div>\n",
    "        </td>\n",
    "    </tr>\n",
    "</table>\n"
   ]
  },
  {
   "cell_type": "code",
   "execution_count": null,
   "metadata": {},
   "outputs": [],
   "source": [
    "# take the exponential of predictions using np.exp()\n",
    "predicted_Property_Sale_Price = np.exp(linreg_feature_1_model_predictions)\n",
    "\n",
    "# extract the 'Property_Sale_Price' values from the test data\n",
    "actual_Property_Sale_Price = y_test['Property_Sale_Price']"
   ]
  },
  {
   "cell_type": "markdown",
   "metadata": {},
   "source": [
    "**5. Compute accuracy measures**\n",
    "\n",
    "Now we calculate accuray measures Root-mean-square-error (RMSE), R-squared and Adjusted R-squared."
   ]
  },
  {
   "cell_type": "code",
   "execution_count": null,
   "metadata": {},
   "outputs": [],
   "source": [
    "# calculate rmse using rmse()\n",
    "linreg_feature_1_model_rmse = rmse(actual_Property_Sale_Price, predicted_Property_Sale_Price)\n",
    "\n",
    "# calculate R-squared using rsquared\n",
    "linreg_feature_1_model_rsquared = linreg_feature_1_model.rsquared\n",
    "\n",
    "# calculate Adjusted R-Squared using rsquared_adj\n",
    "linreg_feature_1_model_rsquared_adj = linreg_feature_1_model.rsquared_adj "
   ]
  },
  {
   "cell_type": "markdown",
   "metadata": {},
   "source": [
    "**6. Tabulate the results**"
   ]
  },
  {
   "cell_type": "code",
   "execution_count": null,
   "metadata": {},
   "outputs": [],
   "source": [
    "# append the accuracy scores to the table\n",
    "# compile the required information\n",
    "linreg_feature_1_model_metrics = pd.Series({'Model': \"Linreg with new feature (TotalSF) \",\n",
    "                                                'RMSE': linreg_feature_1_model_rmse,\n",
    "                                                'R-Squared': linreg_feature_1_model_rsquared,\n",
    "                                                'Adj. R-Squared': linreg_feature_1_model_rsquared_adj})\n",
    "\n",
    "# append our result table using append()\n",
    "# ignore_index=True: does not use the index labels\n",
    "# python can only append a Series if ignore_index=True or if the Series has a name\n",
    "result_tabulation = result_tabulation.append(linreg_feature_1_model_metrics, ignore_index = True)\n",
    "\n",
    "# print the result table\n",
    "result_tabulation"
   ]
  },
  {
   "cell_type": "markdown",
   "metadata": {},
   "source": [
    "<a id='feature2'></a>\n",
    "### 5.3.2 Multiple Linear Regression (Using New Feature) - 2"
   ]
  },
  {
   "cell_type": "markdown",
   "metadata": {},
   "source": [
    "#### In order to build the model, we do the following:"
   ]
  },
  {
   "cell_type": "markdown",
   "metadata": {},
   "source": [
    "**1. Create two new feature by using variables 'Buiding_age' and 'Remodel_age'**"
   ]
  },
  {
   "cell_type": "code",
   "execution_count": null,
   "metadata": {},
   "outputs": [],
   "source": [
    "# 'datetime' is used to perform operations related to date and time\n",
    "import datetime as dt\n",
    "\n",
    "# 'now().year' returns the current year\n",
    "current_year = int(dt.datetime.now().year)"
   ]
  },
  {
   "cell_type": "code",
   "execution_count": null,
   "metadata": {},
   "outputs": [],
   "source": [
    "# create 2 new variables 'Buiding_age' and 'Remodel_age' \n",
    "Buiding_age = current_year - df_property.YearBuilt\n",
    "Remodel_age = current_year - df_property.YearRemodAdd"
   ]
  },
  {
   "cell_type": "code",
   "execution_count": null,
   "metadata": {},
   "outputs": [],
   "source": [
    "# append the newly created variables to the dataframe\n",
    "df_property['Buiding_age'] = Buiding_age\n",
    "df_property['Remodel_age'] = Remodel_age\n",
    "\n",
    "# as we have added a new variable using the variables 'YearBuilt' and 'YearRemodAdd', we will drop them\n",
    "# drop the variables using drop()\n",
    "df_property = df_property.drop(['YearBuilt', 'YearRemodAdd'], axis=1)"
   ]
  },
  {
   "cell_type": "code",
   "execution_count": null,
   "metadata": {},
   "outputs": [],
   "source": [
    "# filter out the categorical variables and consider only the numerical variables using (include=np.number)\n",
    "df_numeric_features = df_property.select_dtypes(include=np.number)\n",
    "\n",
    "# filter out the numerical variables and consider only the categorical variables using (include=object)\n",
    "df_categoric_features = df_property.select_dtypes(include = object)"
   ]
  },
  {
   "cell_type": "markdown",
   "metadata": {},
   "source": [
    "**Dummy encode the catergorical variables**"
   ]
  },
  {
   "cell_type": "code",
   "execution_count": null,
   "metadata": {},
   "outputs": [],
   "source": [
    "# use 'get_dummies()' from pandas to create dummy variables\n",
    "# use 'drop_first = True' to create (n-1) dummy variables\n",
    "dummy_encoded_variables = pd.get_dummies(df_categoric_features, drop_first = True)"
   ]
  },
  {
   "cell_type": "markdown",
   "metadata": {},
   "source": [
    "**Concatenate numerical and dummy encoded categorical variables**"
   ]
  },
  {
   "cell_type": "code",
   "execution_count": null,
   "metadata": {
    "scrolled": true
   },
   "outputs": [],
   "source": [
    "# concatenate the numerical and dummy encoded categorical variables column-wise\n",
    "df_dummy = pd.concat([df_numeric_features, dummy_encoded_variables], axis=1)\n",
    "\n",
    "# display data with dummy variables\n",
    "df_dummy.head()"
   ]
  },
  {
   "cell_type": "markdown",
   "metadata": {},
   "source": [
    "**2. Split the data into train and test sets**"
   ]
  },
  {
   "cell_type": "code",
   "execution_count": null,
   "metadata": {},
   "outputs": [],
   "source": [
    "# add the intercept column using 'add_constant()'\n",
    "df_dummy = sm.add_constant(df_dummy)\n",
    "\n",
    "# separate the independent and dependent variables\n",
    "# drop(): drops the specified columns\n",
    "# axis=1: specifies that the column is to be dropped\n",
    "X = df_dummy.drop(['Property_Sale_Price','log_Property_Sale_Price'], axis = 1)\n",
    "\n",
    "# extract the target variable from the data set\n",
    "y = df_dummy[['Property_Sale_Price','log_Property_Sale_Price']]\n",
    "\n",
    "# split data into train data and test data \n",
    "# what proportion of data should be included in test data is specified using 'test_size'\n",
    "# set 'random_state' to get the same data each time the code is executed  \n",
    "X_train, X_test, y_train, y_test = train_test_split(X, y, test_size = 0.3, random_state = 1)\n",
    "\n",
    "# check the dimensions of the train & test subset for \n",
    "# print dimension of predictors train set\n",
    "print(\"The shape of X_train is:\",X_train.shape)\n",
    "\n",
    "# print dimension of predictors test set\n",
    "print(\"The shape of X_test is:\",X_test.shape)\n",
    "\n",
    "# print dimension of target train set\n",
    "print(\"The shape of y_train is:\",y_train.shape)\n",
    "\n",
    "# print dimension of target test set\n",
    "print(\"The shape of y_test is:\",y_test.shape)"
   ]
  },
  {
   "cell_type": "markdown",
   "metadata": {},
   "source": [
    "**3. Build model using sm.OLS().fit()**"
   ]
  },
  {
   "cell_type": "code",
   "execution_count": null,
   "metadata": {},
   "outputs": [],
   "source": [
    "# build a OLS model using the function OLS()\n",
    "# consider the target variable \"log_Property_Sale_Price\" \n",
    "# use fit() to fit the model on train data\n",
    "linreg_feature_2_model = sm.OLS(y_train['log_Property_Sale_Price'], X_train).fit()\n",
    "\n",
    "# print the summary output\n",
    "print(linreg_feature_2_model.summary())"
   ]
  },
  {
   "cell_type": "markdown",
   "metadata": {},
   "source": [
    "<table align=\"left\">\n",
    "    <tr>\n",
    "        <td width=\"8%\">\n",
    "            <img src=\"infer.png\">\n",
    "        </td>\n",
    "        <td>\n",
    "            <div align=\"left\", style=\"font-size:120%\">\n",
    "                <font color=\"#21618C\">\n",
    "                    <b>This model explains around 94% of the variation in dependent variable log_Property_Sale_Price. The Condition Number 8.32e+18 suggests that there is severe multicollinearity in the data. The Durbin-Watson test statistics is 1.885 and indicates that there is no autocorrelation.</b>\n",
    "                </font>\n",
    "            </div>\n",
    "        </td>\n",
    "    </tr>\n",
    "</table>\n"
   ]
  },
  {
   "cell_type": "markdown",
   "metadata": {},
   "source": [
    "**4. Predict the values using test set**"
   ]
  },
  {
   "cell_type": "code",
   "execution_count": null,
   "metadata": {},
   "outputs": [],
   "source": [
    "# predict the 'log_Property_Sale_Price' using predict()\n",
    "linreg_feature_2_model_predictions = linreg_feature_2_model.predict(X_test)"
   ]
  },
  {
   "cell_type": "markdown",
   "metadata": {},
   "source": [
    "<table align=\"left\">\n",
    "    <tr>\n",
    "        <td width=\"8%\">\n",
    "            <img src=\"todo.png\">\n",
    "        </td>\n",
    "        <td>\n",
    "            <div align=\"left\", style=\"font-size:120%\">\n",
    "                <font color=\"#21618C\">\n",
    "                    <b>Note that the predicted values are log transformed Property_Sale_Price. In order to get Property_Sale_Price values, we take the antilog of these predicted values by using the function np.exp()</b>\n",
    "                </font>\n",
    "            </div>\n",
    "        </td>\n",
    "    </tr>\n",
    "</table>\n"
   ]
  },
  {
   "cell_type": "code",
   "execution_count": null,
   "metadata": {},
   "outputs": [],
   "source": [
    "# take the exponential of predictions using np.exp()\n",
    "predicted_Property_Sale_Price = np.exp(linreg_feature_2_model_predictions)\n",
    "\n",
    "# extract the 'Property_Sale_Price' values from the test data\n",
    "actual_Property_Sale_Price = y_test['Property_Sale_Price']"
   ]
  },
  {
   "cell_type": "markdown",
   "metadata": {},
   "source": [
    "**5. Compute accuracy measures**\n",
    "\n",
    "Now we calculate accuray measures Root-mean-square-error (RMSE), R-squared and Adjusted R-squared."
   ]
  },
  {
   "cell_type": "code",
   "execution_count": null,
   "metadata": {},
   "outputs": [],
   "source": [
    "# calculate rmse using rmse()\n",
    "linreg_feature_2_model_rmse = rmse(actual_Property_Sale_Price, predicted_Property_Sale_Price)\n",
    "\n",
    "# calculate R-squared using rsquared\n",
    "linreg_feature_2_model_rsquared = linreg_feature_2_model.rsquared\n",
    "\n",
    "# calculate Adjusted R-Squared using rsquared_adj\n",
    "linreg_feature_2_model_rsquared_adj = linreg_feature_2_model.rsquared_adj "
   ]
  },
  {
   "cell_type": "markdown",
   "metadata": {},
   "source": [
    "**6. Tabulate the results**"
   ]
  },
  {
   "cell_type": "code",
   "execution_count": null,
   "metadata": {},
   "outputs": [],
   "source": [
    "# append the accuracy scores to the table\n",
    "# compile the required information\n",
    "linreg_feature_2_model_metrics = pd.Series({'Model': \"Linreg with new features (Building_age and Remodel_age)\",\n",
    "                                                'RMSE': linreg_feature_2_model_rmse,\n",
    "                                                'R-Squared': linreg_feature_2_model_rsquared,\n",
    "                                                'Adj. R-Squared': linreg_feature_2_model_rsquared_adj})\n",
    "\n",
    "# append our result table using append()\n",
    "# ignore_index=True: does not use the index labels\n",
    "# python can only append a Series if ignore_index=True or if the Series has a name\n",
    "result_tabulation = result_tabulation.append(linreg_feature_2_model_metrics, ignore_index = True)\n",
    "\n",
    "# print the result table\n",
    "result_tabulation"
   ]
  },
  {
   "cell_type": "markdown",
   "metadata": {},
   "source": [
    "<table align=\"left\">\n",
    "    <tr>\n",
    "        <td width=\"8%\">\n",
    "            <img src=\"infer.png\">\n",
    "        </td>\n",
    "        <td>\n",
    "            <div align=\"left\", style=\"font-size:120%\">\n",
    "                <font color=\"#21618C\">\n",
    "                    <b>RMSE of the model with new features 'Building_age' and 'Remodel_age' is increased. The value of R-squared and aadjusted R-squared is same as the previous model.  \n",
    "</b>\n",
    "                </font>\n",
    "            </div>\n",
    "        </td>\n",
    "    </tr>\n",
    "</table>"
   ]
  },
  {
   "cell_type": "markdown",
   "metadata": {},
   "source": [
    "<a id='feature_selection'></a>\n",
    "# 6. Feature Selection"
   ]
  },
  {
   "cell_type": "markdown",
   "metadata": {},
   "source": [
    "<a id='vif'></a>\n",
    "## 6.1 Variance Inflation Factor\n",
    "\n",
    "The Variance Inflation Factor (VIF) is used to detect the presence of multicollinearity between the features. The value of VIF equal to 1 indicates that no features are correlated. We calculate the VIF of the numerical independent variables. VIF for the variable V<sub>i</sub> is given as:\n",
    "<p style='text-indent:29em'> <strong> VIF = 1 / (1 - R-squared)</strong>  </p><br>\n",
    "Where, R-squared is the R-squared of the regression model build by regressing one independent variable (say V<sub>i</sub>) on all the remaining independent variables (say V<sub>j</sub>, j ≠ i)."
   ]
  },
  {
   "cell_type": "code",
   "execution_count": null,
   "metadata": {},
   "outputs": [],
   "source": [
    "# consider the independent variables in the dataframe 'df_property' \n",
    "# remove the target variables 'Property_Sale_Price' and 'log_Property_Sale_Price' using drop() function\n",
    "df_property_features = df_property.drop(['Property_Sale_Price', 'log_Property_Sale_Price'], axis = 1)\n",
    "\n",
    "# filter out the categorical variables and consider only the numerical variables using (include=np.number)\n",
    "df_numeric_features_vif = df_property_features.select_dtypes(include=[np.number])\n",
    "\n",
    "# display the first five observations\n",
    "df_numeric_features_vif.head()"
   ]
  },
  {
   "cell_type": "markdown",
   "metadata": {},
   "source": [
    "#### Calculate the VIF for each numeric variable."
   ]
  },
  {
   "cell_type": "code",
   "execution_count": null,
   "metadata": {},
   "outputs": [],
   "source": [
    "# create an empty dataframe to store the VIF for each variable\n",
    "vif = pd.DataFrame()\n",
    "\n",
    "# calculate VIF using list comprehension \n",
    "# use for loop to access each variable \n",
    "# calculate VIF for each variable and create a column 'VIF_Factor' to store the values \n",
    "vif[\"VIF_Factor\"] = [variance_inflation_factor(df_numeric_features_vif.values, i) for i in range(df_numeric_features_vif.shape[1])]\n",
    "\n",
    "# create a column of variable names\n",
    "vif[\"Features\"] = df_numeric_features_vif.columns\n",
    "\n",
    "# sort the dataframe based on the values of VIF_Factor in descending order\n",
    "# 'reset_index' resets the index of the dataframe\n",
    "# 'ascending = False' sorts the data in descending order\n",
    "# 'drop = True' drops the index that was previously created\n",
    "vif.sort_values('VIF_Factor', ascending = False).reset_index(drop = True)"
   ]
  },
  {
   "cell_type": "markdown",
   "metadata": {},
   "source": [
    "<table align=\"left\">\n",
    "    <tr>\n",
    "        <td width=\"8%\">\n",
    "            <img src=\"infer.png\">\n",
    "        </td>\n",
    "        <td>\n",
    "            <div align=\"left\", style=\"font-size:120%\">\n",
    "                <font color=\"#21618C\">\n",
    "                    <b> We can see that the variable 'YrSold' has the highest VIF. \n",
    "                        <br>We will remove the variables having VIF greater than 10. \n",
    "                        <br>We want to remove the variable for which the remaining variables explain more than 90% of the variation and thus we set the threshold to 10. \n",
    "                        <br>The value of threshold is completely experimental i.e. it depends on the business requirements. One can choose the threshold  other than 10.\n",
    "</b>\n",
    "                </font>\n",
    "            </div>\n",
    "        </td>\n",
    "    </tr>\n",
    "</table>"
   ]
  },
  {
   "cell_type": "code",
   "execution_count": null,
   "metadata": {},
   "outputs": [],
   "source": [
    "# we will calculate the VIF for each numerical variable\n",
    "for ind in range(len(df_numeric_features_vif.columns)):\n",
    "    \n",
    "    # create an empty dataframe\n",
    "    vif = pd.DataFrame()\n",
    "\n",
    "    # calculate VIF for each variable and create a column 'VIF_Factor' to store the values \n",
    "    vif[\"VIF_Factor\"] = [variance_inflation_factor(df_numeric_features_vif.values, i) for i in range(df_numeric_features_vif.shape[1])]\n",
    "\n",
    "    # create a column of feature names\n",
    "    vif[\"Features\"] = df_numeric_features_vif.columns\n",
    "\n",
    "    # filter the variables with VIF greater than 10 and store it in a dataframe 'vif_more_than_10' \n",
    "    # one can choose the threshold other than 10 (it depends on the business requirements)\n",
    "    vif_more_than_10 = vif[vif['VIF_Factor'] > 10]\n",
    "    \n",
    "    # if dataframe 'vif_more_than_10' is not empty, then sort the dataframe by VIF values\n",
    "    # if dataframe 'vif_more_than_10' is empty (i.e. all VIF <= 10), then print the dataframe 'vif' and break the for loop using 'break' \n",
    "    # 'by' sorts the data using given variable(s)\n",
    "    # 'ascending = False' sorts the data in descending order\n",
    "    if(vif_more_than_10.empty == False):\n",
    "        df_sorted = vif_more_than_10.sort_values(by = 'VIF_Factor', ascending = False)\n",
    "    else:\n",
    "        print(vif)\n",
    "        break\n",
    "    \n",
    "    # if  dataframe 'df_sorted' is not empty, then drop the first entry in the column 'Features' from the numeric variables\n",
    "    # select the variable using 'iloc[]'\n",
    "    # 'axis=1' drops the corresponding column\n",
    "    #  else print the final dataframe 'vif' with all values after removal of variables with VIF less than 10  \n",
    "    if (df_sorted.empty == False):\n",
    "        df_numeric_features_vif = df_numeric_features_vif.drop(df_sorted.Features.iloc[0], axis=1)\n",
    "    else:\n",
    "        print(vif)"
   ]
  },
  {
   "cell_type": "markdown",
   "metadata": {},
   "source": [
    "<table align=\"left\">\n",
    "    <tr>\n",
    "        <td width=\"8%\">\n",
    "            <img src=\"infer.png\">\n",
    "        </td>\n",
    "        <td>\n",
    "            <div align=\"left\", style=\"font-size:120%\">\n",
    "                <font color=\"#21618C\">\n",
    "                    <b> The above dataframe contains all the variables with VIF less than 10. \n",
    "</b>\n",
    "                </font>\n",
    "            </div>\n",
    "        </td>\n",
    "    </tr>\n",
    "</table>"
   ]
  },
  {
   "cell_type": "markdown",
   "metadata": {},
   "source": [
    "#### In order to build the model, we do the following"
   ]
  },
  {
   "cell_type": "markdown",
   "metadata": {},
   "source": [
    "Now, let us build the model using the categorical variables and the numerical variables obtained from VIF. "
   ]
  },
  {
   "cell_type": "markdown",
   "metadata": {},
   "source": [
    "**1. Concatenate numerical and dummy encoded categorical variables**"
   ]
  },
  {
   "cell_type": "code",
   "execution_count": null,
   "metadata": {
    "scrolled": false
   },
   "outputs": [],
   "source": [
    "# lets consider the variables obtained from VIF\n",
    "# use the dummy variables created previously\n",
    "# concatenate the numerical and dummy encoded categorical variables\n",
    "df_dummy = pd.concat([df_numeric_features_vif, dummy_encoded_variables], axis=1)\n",
    "\n",
    "# display data with dummy variables\n",
    "df_dummy.head()"
   ]
  },
  {
   "cell_type": "markdown",
   "metadata": {},
   "source": [
    "**2. Split the data into train and test sets**"
   ]
  },
  {
   "cell_type": "code",
   "execution_count": null,
   "metadata": {},
   "outputs": [],
   "source": [
    "# add the intercept column using 'add_constant()'\n",
    "df_dummy = sm.add_constant(df_dummy)\n",
    "\n",
    "# consider independent variables\n",
    "# create a copy of 'df_dummy' and store it as X\n",
    "X = df_dummy.copy()\n",
    "\n",
    "# extract the target variable from the data set\n",
    "y = df_property[['Property_Sale_Price','log_Property_Sale_Price']]\n",
    "\n",
    "# split data into train data and test data \n",
    "# what proportion of data should be included in test data is specified using 'test_size'\n",
    "# set 'random_state' to get the same data each time the code is executed  \n",
    "X_train, X_test, y_train, y_test = train_test_split(X, y, test_size = 0.3, random_state = 1)\n",
    "\n",
    "# check the dimensions of the train & test subset for \n",
    "# print dimension of predictors train set\n",
    "print(\"The shape of X_train is:\",X_train.shape)\n",
    "\n",
    "# print dimension of predictors test set\n",
    "print(\"The shape of X_test is:\",X_test.shape)\n",
    "\n",
    "# print dimension of target train set\n",
    "print(\"The shape of y_train is:\",y_train.shape)\n",
    "\n",
    "# print dimension of target test set\n",
    "print(\"The shape of y_test is:\",y_test.shape)"
   ]
  },
  {
   "cell_type": "markdown",
   "metadata": {},
   "source": [
    "**3. Build model using sm.OLS().fit()**"
   ]
  },
  {
   "cell_type": "code",
   "execution_count": null,
   "metadata": {},
   "outputs": [],
   "source": [
    "# build a full model using OLS()\n",
    "# consider the target variable log_Property_Sale_Price \n",
    "# use fit() to fit the model on train data\n",
    "linreg_vif_model = sm.OLS(y_train['log_Property_Sale_Price'], X_train).fit()\n",
    "\n",
    "# print the summary output\n",
    "print(linreg_vif_model.summary())"
   ]
  },
  {
   "cell_type": "markdown",
   "metadata": {},
   "source": [
    "<table align=\"left\">\n",
    "    <tr>\n",
    "        <td width=\"8%\">\n",
    "            <img src=\"infer.png\">\n",
    "        </td>\n",
    "        <td>\n",
    "            <div align=\"left\", style=\"font-size:120%\">\n",
    "                <font color=\"#21618C\">\n",
    "                    <b>This model explains around 93% of the variation in dependent variable log_Property_Sale_Price. \n",
    "                        <br>The Condition Number 1.74e+19 suggests that there is severe multicollinearity in the data. \n",
    "                        <br>The Durbin-Watson test statistics is 1.946 and indicates that there is no autocorrelation. </b>\n",
    "                </font>\n",
    "            </div>\n",
    "        </td>\n",
    "    </tr>\n",
    "</table>\n"
   ]
  },
  {
   "cell_type": "markdown",
   "metadata": {},
   "source": [
    "**4. Predict the values using test set**"
   ]
  },
  {
   "cell_type": "code",
   "execution_count": null,
   "metadata": {},
   "outputs": [],
   "source": [
    "# predict the 'log_Property_Sale_Price' using predict()\n",
    "linreg_vif_model_predictions = linreg_vif_model.predict(X_test)"
   ]
  },
  {
   "cell_type": "markdown",
   "metadata": {},
   "source": [
    "<table align=\"left\">\n",
    "    <tr>\n",
    "        <td width=\"8%\">\n",
    "            <img src=\"todo.png\">\n",
    "        </td>\n",
    "        <td>\n",
    "            <div align=\"left\", style=\"font-size:120%\">\n",
    "                <font color=\"#21618C\">\n",
    "                    <b>Note that the predicted values are log transformed Property_Sale_Price. In order to get Property_Sale_Price values, we take the antilog of these predicted values by using the function np.exp()</b>\n",
    "                </font>\n",
    "            </div>\n",
    "        </td>\n",
    "    </tr>\n",
    "</table>\n"
   ]
  },
  {
   "cell_type": "code",
   "execution_count": null,
   "metadata": {},
   "outputs": [],
   "source": [
    "# take the exponential of predictions using np.exp()\n",
    "predicted_Property_Sale_Price = np.exp(linreg_vif_model_predictions)\n",
    "\n",
    "# extract the 'Property_Sale_Price' values from the test data\n",
    "actual_Property_Sale_Price = y_test['Property_Sale_Price']"
   ]
  },
  {
   "cell_type": "markdown",
   "metadata": {},
   "source": [
    "**5. Compute accuracy measures**\n",
    "\n",
    "Now we calculate accuray measures Root-mean-square-error (RMSE), R-squared and Adjusted R-squared."
   ]
  },
  {
   "cell_type": "code",
   "execution_count": null,
   "metadata": {},
   "outputs": [],
   "source": [
    "# calculate rmse using rmse()\n",
    "linreg_vif_model_rmse = rmse(actual_Property_Sale_Price, predicted_Property_Sale_Price)\n",
    "\n",
    "# calculate R-squared using rsquared\n",
    "linreg_vif_model_rsquared = linreg_vif_model.rsquared\n",
    "\n",
    "# calculate Adjusted R-Squared using rsquared_adj\n",
    "linreg_vif_model_rsquared_adj = linreg_vif_model.rsquared_adj "
   ]
  },
  {
   "cell_type": "markdown",
   "metadata": {},
   "source": [
    "**6. Tabulate the results**"
   ]
  },
  {
   "cell_type": "code",
   "execution_count": null,
   "metadata": {
    "scrolled": true
   },
   "outputs": [],
   "source": [
    "# append the accuracy scores to the table\n",
    "# compile the required information\n",
    "linreg_vif_model_metrics = pd.Series({'Model': \"Linreg with VIF\",\n",
    "                                                'RMSE': linreg_vif_model_rmse,\n",
    "                                                'R-Squared': linreg_vif_model_rsquared,\n",
    "                                                'Adj. R-Squared': linreg_vif_model_rsquared_adj})\n",
    "\n",
    "# append our result table using append()\n",
    "# ignore_index=True: does not use the index labels\n",
    "# python can only append a Series if ignore_index=True or if the Series has a name\n",
    "result_tabulation = result_tabulation.append(linreg_vif_model_metrics, ignore_index = True)\n",
    "\n",
    "# print the result table\n",
    "result_tabulation"
   ]
  },
  {
   "cell_type": "markdown",
   "metadata": {},
   "source": [
    "<table align=\"left\">\n",
    "    <tr>\n",
    "        <td width=\"8%\">\n",
    "            <img src=\"infer.png\">\n",
    "        </td>\n",
    "        <td>\n",
    "            <div align=\"left\", style=\"font-size:120%\">\n",
    "                <font color=\"#21618C\">\n",
    "                    <b> From the above table we can see that the linear regression with new features has the lowest RMSE value. Thus, it can be concluded that the linear regression model with new features can be used to predict the price of the house.\n",
    "                    </b>\n",
    "                </font>\n",
    "            </div>\n",
    "        </td>\n",
    "    </tr>\n",
    "</table>"
   ]
  },
  {
   "cell_type": "code",
   "execution_count": null,
   "metadata": {},
   "outputs": [],
   "source": []
  },
  {
   "cell_type": "code",
   "execution_count": null,
   "metadata": {},
   "outputs": [],
   "source": []
  },
  {
   "cell_type": "code",
   "execution_count": null,
   "metadata": {},
   "outputs": [],
   "source": []
  },
  {
   "cell_type": "markdown",
   "metadata": {},
   "source": [
    "### LR Assumption 1: Linearity\n",
    "\n",
    "The first assumption we are going to see is linearity.\n",
    "\n",
    "This assumption states that the relationship between the dependent and the independent variables should be linear."
   ]
  },
  {
   "cell_type": "markdown",
   "metadata": {},
   "source": [
    "<table align=\"left\">\n",
    "    <tr>\n",
    "        <td width=\"8%\">\n",
    "            <img src=\"infer.png\">\n",
    "        </td>\n",
    "        <td>\n",
    "            <div align=\"left\", style=\"font-size:120%\">\n",
    "                <font color=\"#21618C\">\n",
    "                    <b> From the intial exploratory analysis (Bi-Variate analysis), we have already seen that there is a linear relationship between target variable and most of the other features.\n",
    "                    </b>\n",
    "                </font>\n",
    "            </div>\n",
    "        </td>\n",
    "    </tr>\n",
    "</table>"
   ]
  },
  {
   "cell_type": "markdown",
   "metadata": {},
   "source": [
    "### LR Assumption 2: No Multicollinearity\n",
    "\n",
    "Multiple linear regression assumes that there is no multicollinearity in the data.\n",
    "\n",
    "Multicollinearity occurs when the independent variables are highly correlated, i.e., the independent variables depend on each other.\n",
    "\n",
    "Multicollinearity is often a dire threat to our model. To detect the impact of multicollinearity among the variables we can use the Variance Inflation Factor(VIF).\n",
    "\n",
    "If the VIF is high for an independent variable then there is a chance that it is already explained by another variable.\n",
    "\n",
    "Independent variables with VIF value greater than 10 may be correlated.\n",
    "\n",
    "However, independent variables with VIF value greater than 100 indicates certain multicollinearity and should be eliminated."
   ]
  },
  {
   "cell_type": "markdown",
   "metadata": {},
   "source": [
    "<table align=\"left\">\n",
    "    <tr>\n",
    "        <td width=\"8%\">\n",
    "            <img src=\"infer.png\">\n",
    "        </td>\n",
    "        <td>\n",
    "            <div align=\"left\", style=\"font-size:120%\">\n",
    "                <font color=\"#21618C\">\n",
    "                    <b> During the development of final model, we have already eliminated all the features with VIF>10. \n",
    "                    </b>\n",
    "                </font>\n",
    "            </div>\n",
    "        </td>\n",
    "    </tr>\n",
    "</table>"
   ]
  },
  {
   "cell_type": "markdown",
   "metadata": {},
   "source": [
    "### LR Assumption 2: Errors should be normally distributed:\n",
    "\n",
    "Another assumption made by the OLS is that the errors are normally distributed. Plotting the errors will show the distribution of errors.\n",
    "\n",
    "Q-Q plot is a graphical technique used to determine whether the residuals are normally distributed.\n",
    "\n",
    "If the points are normally distributed then the points will fall on a straight diagonal line."
   ]
  },
  {
   "cell_type": "code",
   "execution_count": null,
   "metadata": {},
   "outputs": [],
   "source": [
    "fig, ax = plt.subplots(1, 1)\n",
    "sm.ProbPlot(linreg_vif_model.resid).qqplot(line='s', color='#1f77b4', ax=ax)\n",
    "ax.title.set_text('QQ Plot')"
   ]
  },
  {
   "cell_type": "markdown",
   "metadata": {},
   "source": [
    "<table align=\"left\">\n",
    "    <tr>\n",
    "        <td width=\"8%\">\n",
    "            <img src=\"infer.png\">\n",
    "        </td>\n",
    "        <td>\n",
    "            <div align=\"left\", style=\"font-size:120%\">\n",
    "                <font color=\"#21618C\">\n",
    "                    <b> From the above plot it looks like there are many points falling away from the red line indicating that the errors are not normally distributed.\n",
    "                    </b>\n",
    "                </font>\n",
    "            </div>\n",
    "        </td>\n",
    "    </tr>\n",
    "</table>"
   ]
  },
  {
   "cell_type": "markdown",
   "metadata": {},
   "source": [
    "### LR Assumption 4: Homoscedasticity\n",
    "\n",
    "Homoscedasticity simply means that the variance of the error terms should be constant with respect to the independent variable.\n",
    "\n",
    "We can use the scale-location plot to test this assumption.\n",
    "\n",
    "If the plot depicts a clear pattern like a cone-shaped pattern then it is not homoscedastic. The absence of homoscedastic is called as heteroscedastic.\n",
    "\n",
    "Presence of outliers in the data is one of the reasons for not holding homoscedasticity.\n",
    "\n",
    "Violation of this assumption may give unreliable or biased standard error of the coefficients."
   ]
  },
  {
   "cell_type": "code",
   "execution_count": null,
   "metadata": {},
   "outputs": [],
   "source": [
    "fig, ax = plt.subplots(1, 1)\n",
    "standardized_resid1 = np.sqrt(np.abs(linreg_vif_model.get_influence().resid_studentized_internal))\n",
    "sns.regplot(linreg_vif_model.predict(), standardized_resid1, color='#1f77b4', lowess=True, scatter_kws={'alpha': 0.5}, line_kws={'color':'red'}, ax=ax)\n",
    "ax.title.set_text('Scale Location')\n",
    "ax.set(xlabel='Fitted', ylabel='Standardized Residuals')"
   ]
  },
  {
   "cell_type": "markdown",
   "metadata": {},
   "source": [
    "<table align=\"left\">\n",
    "    <tr>\n",
    "        <td width=\"8%\">\n",
    "            <img src=\"infer.png\">\n",
    "        </td>\n",
    "        <td>\n",
    "            <div align=\"left\", style=\"font-size:120%\">\n",
    "                <font color=\"#21618C\">\n",
    "                    <b> We can see that the variance of the residuals in not random. Even though it is not a cone-shaped we can still notice a pattern.\n",
    "                    </b>\n",
    "                </font>\n",
    "            </div>\n",
    "        </td>\n",
    "    </tr>\n",
    "</table>"
   ]
  },
  {
   "cell_type": "markdown",
   "metadata": {},
   "source": [
    "# <center> The End </center>"
   ]
  }
 ],
 "metadata": {
  "kernelspec": {
   "display_name": "Python 3",
   "language": "python",
   "name": "python3"
  },
  "language_info": {
   "codemirror_mode": {
    "name": "ipython",
    "version": 3
   },
   "file_extension": ".py",
   "mimetype": "text/x-python",
   "name": "python",
   "nbconvert_exporter": "python",
   "pygments_lexer": "ipython3",
   "version": "3.8.8"
  },
  "toc": {
   "base_numbering": 1,
   "nav_menu": {},
   "number_sections": true,
   "sideBar": true,
   "skip_h1_title": false,
   "title_cell": "Table of Contents",
   "title_sidebar": "Contents",
   "toc_cell": false,
   "toc_position": {},
   "toc_section_display": true,
   "toc_window_display": false
  }
 },
 "nbformat": 4,
 "nbformat_minor": 4
}
